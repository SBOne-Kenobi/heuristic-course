{
 "cells": [
  {
   "cell_type": "markdown",
   "metadata": {},
   "source": [
    "# Uninformed Tree Search Without Duplicate Detection\n",
    "In this lab you are going to implement basic tree-search methods (without duplicate states detection) - BFS (Breadth First Search), DFS (Depth First Search), DFS-L (Depth First Search with Limited Depth), DFID (Depth First Iterative Deepening).\n",
    "\n",
    "Two widespread domains will be considered - 15-puzzle and Panckakes. For 15-puzzle the code that defines the state and the getSuccesors function is already available. For Panckakes - you have to code it yourself. All search methods have to be coded by you as well, using the code stubs provided.\n",
    "\n",
    "Run every cell of the notebook and complete the described tasks. Good luck!"
   ]
  },
  {
   "cell_type": "code",
   "execution_count": 1,
   "metadata": {},
   "outputs": [],
   "source": [
    "import copy"
   ]
  },
  {
   "cell_type": "markdown",
   "metadata": {},
   "source": [
    "# Gem Puzzle (15-puzzle or n-puzzle)\n",
    "The 15-puzzle (also called Gem Puzzle, Boss Puzzle, Game of Fifteen, Mystic Square and many others) is a sliding puzzle that consists of a frame of numbered square tiles in random order with one tile missing (see picture below). The puzzle also exists in other sizes, particularly the smaller 8-puzzle. If the size is 3×3 tiles, the puzzle is called the 8-puzzle or 9-puzzle, and if 4×4 tiles, the puzzle is called the 15-puzzle or 16-puzzle named, respectively, for the number of tiles and the number of spaces. The object of the puzzle is to place the tiles in order by making sliding moves that use the empty space. Note, that half of the starting positions for the n-puzzle are impossible to resolve, no matter how many moves are made. [[Wikipedia](https://en.wikipedia.org/wiki/15_puzzle)]. "
   ]
  },
  {
   "cell_type": "markdown",
   "metadata": {
    "tags": []
   },
   "source": [
    "![puzzle](Image/GemPuzzle.png)"
   ]
  },
  {
   "cell_type": "markdown",
   "metadata": {},
   "source": [
    "## Representation of a search state for the Gem Puzzle\n",
    "\n",
    "Implementing SearchState (or simply - State) in code is a very important first step needed to tackle any search problem.\n",
    "\n",
    "The suggested implementation (not the only one possible, obviously) of the GemPuzzleState is comprised of the following fields: \n",
    "- size - width of game field \n",
    "- tileList - tile positions represented as a list of integers. This list is expected to contain values from 1 to *size* * *size*. Each integer value corresponds to a tile and the position in the list (index) corresponds to the position of the tile on the game field. Tile with the value *size* * *size* is assumed to represent blank position.\n",
    "- parent - pointer to the parent-state. Parent is a predecessor of the state in the search-tree. It is used to reconstrruct a path to that state from the start state (root of the search tree).\n",
    "- blankPos - position of empty tile in tileList. Explicitly storing the position of a blank helps to generate successors faster.\n",
    "\n"
   ]
  },
  {
   "cell_type": "code",
   "execution_count": 2,
   "metadata": {},
   "outputs": [],
   "source": [
    "class GemPuzzleState:\n",
    "\n",
    "    # Constructor. Sets tile positions + some basic checks.\n",
    "    def __init__(self, tileList):\n",
    "        self.tileList = tileList\n",
    "        self.size = int(len(tileList) ** 0.5)\n",
    "        blankValue = self.size ** 2\n",
    "        if (blankValue != len(tileList)):\n",
    "            raise Exception(\"The tile list must contain the number of elements which is equal to the square of an integer!\")\n",
    "\n",
    "        # Memorizing the position of a blank tile\n",
    "        # Technically, there is no need to do so, but it makes to get the successors a bit faster\n",
    "        self.blankPos = -1 \n",
    "        for i in enumerate(tileList):\n",
    "            if (i[1] == blankValue):\n",
    "                self.blankPos = i[0]\n",
    "\n",
    "                \n",
    "        if (self.blankPos == -1):\n",
    "            raise Exception(\"State should contains max value as position to blank tile\")     \n",
    "        \n",
    "        # The parent state (predecessor in the search tree) will be set up by the search algorithm.\n",
    "        self.parent = None\n",
    "       \n",
    "    # Comparing one state with the other state. This is needed e.g. to test whether we reached the goal state.\n",
    "    def __eq__(self, other):\n",
    "        for i in enumerate(self.tileList):\n",
    "            if i[1] != other.tileList[i[0]]:\n",
    "                return False\n",
    "        return True\n",
    "\n",
    "\n",
    "    # Printing the state as tile matrix\n",
    "    def Print(self):\n",
    "        res = []\n",
    "        charTileList = list(map(str, self.tileList))\n",
    "        charTileList[self.blankPos] = '_'\n",
    "        for rowStart in range(0, len(charTileList), self.size):\n",
    "            res.append(charTileList[rowStart:rowStart+self.size])\n",
    "        print()\n",
    "        print('\\n'.join([''.join(['{:2}'.format(item) for item in row]) \n",
    "            for row in res]))\n"
   ]
  },
  {
   "cell_type": "markdown",
   "metadata": {},
   "source": [
    "### Get Succesors\n",
    "Implementing GetSuccessors function is another important step to tackle any search problem.\n",
    "\n",
    "This function is presumed to take a particular search state as the input and to return all possible succesors states. i.e. the ones that result from applying all applicable actions to the input state. \n",
    "\n",
    "In case of GemPuzzle the succesors correspond to the board states resulting from moving blank up/down/left/right. If blank goes out of the field after a move, such successor should obviously be discarded."
   ]
  },
  {
   "cell_type": "code",
   "execution_count": 3,
   "metadata": {},
   "outputs": [],
   "source": [
    "def GetSuccessors(state):\n",
    "    delta = [[0, 1], [1, 0], [0, -1], [-1, 0]]\n",
    "    successors = []\n",
    "    for d in delta:\n",
    "        row = state.blankPos // state.size #identifying the row in which blank is located\n",
    "        col = state.blankPos % state.size #identifying the column in which blank is located\n",
    "        row += d[0] #computing new row for blank (corresponding to a particular move encoded via 'd')\n",
    "        col += d[1] #computing new column for blank (corresponding to a particular move encoded via 'd')\n",
    "        \n",
    "        #if the new position of a blank is valid (i.e. it is still within the field) then\n",
    "        #a corresponding sucessor should be added to the succesors' list\n",
    "        if (0 <= row < state.size) and (0 <= col < state.size):\n",
    "            newState = copy.deepcopy(state)\n",
    "            newBlankPos = row * state.size + col\n",
    "            newState.tileList[newState.blankPos] = newState.tileList[newBlankPos] #moving tile\n",
    "            newState.tileList[newBlankPos] = newState.size ** 2 #setting blank\n",
    "            newState.blankPos = newBlankPos\n",
    "            newState.parent = state\n",
    "            successors.append(newState)\n",
    "\n",
    "    return successors"
   ]
  },
  {
   "cell_type": "markdown",
   "metadata": {},
   "source": [
    "### Goal check\n",
    "\n",
    "Handy function that returns `True` if the input `state` corresponds to the goal one (i.e. all tiles are in their places), and `False` otherwise"
   ]
  },
  {
   "cell_type": "code",
   "execution_count": 4,
   "metadata": {},
   "outputs": [],
   "source": [
    "def StateIsGoal(state):\n",
    "    for i in range(1, len(state.tileList)):\n",
    "        if(state.tileList[i-1] > state.tileList[i]):\n",
    "            return False\n",
    "    return True"
   ]
  },
  {
   "cell_type": "markdown",
   "metadata": {},
   "source": [
    "### Path checking\n",
    "Auxiliary function that takes the `lastState` and checks whether this state is a goal. If yes, it unwinds the path using the backpointers and checks whether each successor is reachable from its predecessor."
   ]
  },
  {
   "cell_type": "code",
   "execution_count": 5,
   "metadata": {},
   "outputs": [],
   "source": [
    "def CheckPath(lastState):\n",
    "        curr = lastState\n",
    "        if not StateIsGoal(curr):\n",
    "            print(\"Goal was not reached!\")\n",
    "            return False\n",
    "\n",
    "        while(curr.parent is not None):\n",
    "            prev = curr.parent\n",
    "            if (curr not in GetSuccessors(prev)):\n",
    "                print(\"Unacceptable step!\")\n",
    "                return False                \n",
    "            curr = prev\n",
    "        return True"
   ]
  },
  {
   "cell_type": "markdown",
   "metadata": {},
   "source": [
    "### Path unwinding\n",
    "Typically the paths are not stored within a search explicitly, but rather implicitly via the parent pointers (pointing to the predecessor in the search tree). Thus, when we reach the goal state and want to reconstruct the whole path we need to trace the parent pointers back to the root of the tree.\n",
    "\n",
    "Technically this function takes a state `lastState` as an input and returns a path to this state from the root of the tree."
   ]
  },
  {
   "cell_type": "code",
   "execution_count": 6,
   "metadata": {},
   "outputs": [],
   "source": [
    "def GetPath(lastState):\n",
    "    path = []\n",
    "    curr = lastState\n",
    "    while curr is not None:\n",
    "        path.append(curr)\n",
    "        curr = curr.parent\n",
    "    return path\n"
   ]
  },
  {
   "cell_type": "markdown",
   "metadata": {},
   "source": [
    "## Automated tests to check the implementations of the search algorithms\n",
    "When you finish implementing search algorithms you need to test them, right? The following functions will help you in that. They take your search algorithm as an input and run it on a single simple test (`SimpleTest`) and on a series of a more involved test (`MassiveTest`).\n",
    "\n",
    "These automated tests assume that the seach function, passed as the input, has the following structure:\n",
    "\n",
    "`SearchFunction(startState, *optional arguments*) -> (pathFound, lastState)`, where\n",
    "\n",
    "- startState -- initial state\n",
    "- *optional arguments* -- additional parameters of the search function (if needed), passed via `*args`\n",
    "- pathFound -- result of the search, `True` if path was found, `False` otherwise\n",
    "- lastState -- last state of path. `None` if path was not found"
   ]
  },
  {
   "cell_type": "markdown",
   "metadata": {},
   "source": [
    "SimpleTest runs `SearchFunction` on a simple 2x2 sliding puzzle instance (encoded as [3, 1, 2, 4]).\n",
    "\n",
    "The output is as follows:\n",
    "- 'Path is OK' and list of states of path -- path was found and it is correct\n",
    "- 'Path is not OK(' -- path was found but it is not correct \n",
    "- 'Path not found(' -- path was not found \n",
    "- 'Execution error' -- an error occurred while executing the `SearchFunction` or path validation function"
   ]
  },
  {
   "cell_type": "code",
   "execution_count": 7,
   "metadata": {},
   "outputs": [],
   "source": [
    "\n",
    "def SimpleTest(SearchFunction, *args):\n",
    "    startState = GemPuzzleState([3,1,2,4])\n",
    "    try:\n",
    "        result = SearchFunction(startState, *args)\n",
    "        curr = result[1]\n",
    "        if(result[0]):\n",
    "            if(CheckPath(curr)):\n",
    "                print(\"Path is OK!\")\n",
    "                path = GetPath(result[1])\n",
    "\n",
    "                while len(path) != 0:\n",
    "                    s = path.pop()\n",
    "                    s.Print()\n",
    "            else:\n",
    "                print(\"Path is not OK(\")\n",
    "        else:\n",
    "            print(\"Path not found(\")\n",
    "    except Exception as e:\n",
    "        print(\"Execution error\")\n",
    "        print(e)"
   ]
  },
  {
   "cell_type": "markdown",
   "metadata": {},
   "source": [
    "MassiveTest runs `SearchFunction` on set of different tasks (stored in `Data/taskGem.txt`). Initially this file contains 4 different 2x2 sliding puzzle instances and 4 different 3x3 sliding puzzle instances (you can add more if you want).\n",
    "\n",
    "The output is similar to `SimpleTest` (however the full paths for solved instances are not displayed):\n",
    "\n",
    "- 'Path is OK' -- path was found and it is correct\n",
    "- 'Path os not OK(' -- path was found but it is not correct \n",
    "- 'Path not found(' -- path was not found\n",
    "- 'Execution error' -- an error occurred  while executing the `SearchFunction` or path validation function\n",
    " "
   ]
  },
  {
   "cell_type": "code",
   "execution_count": 8,
   "metadata": {},
   "outputs": [],
   "source": [
    "def MassiveTest(SearchFunction, *args):\n",
    "    tasksFile = open('Data/tasksGem.txt')\n",
    "    count = 0\n",
    "    for l in tasksFile:\n",
    "        count += 1\n",
    "        state = list(map(int, l.split()))\n",
    "        task = GemPuzzleState(state)\n",
    "        try:\n",
    "            result = SearchFunction(task, *args)\n",
    "            curr = result[1]\n",
    "            if(result[0]):\n",
    "                if(CheckPath(curr)):\n",
    "                    print(count, \"Path is OK!\")\n",
    "                else:\n",
    "                    print(count, \"Path is not OK(\")\n",
    "            else:\n",
    "                print(count, \"Path not found(\")\n",
    "        except Exception as e:\n",
    "            print(count, \"Execution error\")\n",
    "            print(e)\n",
    "        "
   ]
  },
  {
   "cell_type": "markdown",
   "metadata": {},
   "source": [
    "## Breadth-First Search (BFS)"
   ]
  },
  {
   "cell_type": "code",
   "execution_count": 9,
   "metadata": {
    "tags": []
   },
   "outputs": [],
   "source": [
    "# TODO Implementation of Breadth-First Search algorithm\n",
    "\n",
    "from queue import Queue\n",
    "\n",
    "def BFS(start):\n",
    "    pathFound = False\n",
    "    resState = None\n",
    "\n",
    "    queue = Queue()\n",
    "    queue.put(start)\n",
    "    while not queue.empty():\n",
    "        curr = queue.get()\n",
    "        if StateIsGoal(curr):\n",
    "            resState = curr\n",
    "            pathFound = True\n",
    "            break\n",
    "        for nxt in GetSuccessors(curr):\n",
    "            queue.put(nxt)\n",
    "\n",
    "    return pathFound, resState\n"
   ]
  },
  {
   "cell_type": "code",
   "execution_count": 10,
   "metadata": {
    "tags": []
   },
   "outputs": [
    {
     "name": "stdout",
     "output_type": "stream",
     "text": [
      "Path is OK!\n",
      "\n",
      "3 1 \n",
      "2 _ \n",
      "\n",
      "3 1 \n",
      "_ 2 \n",
      "\n",
      "_ 1 \n",
      "3 2 \n",
      "\n",
      "1 _ \n",
      "3 2 \n",
      "\n",
      "1 2 \n",
      "3 _ \n"
     ]
    }
   ],
   "source": [
    "# Test your BFS on simple task\n",
    "SimpleTest(BFS)"
   ]
  },
  {
   "cell_type": "code",
   "execution_count": 11,
   "metadata": {
    "tags": []
   },
   "outputs": [
    {
     "name": "stdout",
     "output_type": "stream",
     "text": [
      "1 Path is OK!\n",
      "2 Path is OK!\n",
      "3 Path is OK!\n",
      "4 Path is OK!\n",
      "5 Path is OK!\n",
      "6 Path is OK!\n",
      "7 Path is OK!\n",
      "8 Path is OK!\n"
     ]
    }
   ],
   "source": [
    "# If simple test is OK, you should check your implementation in massive test. The rest of the search algorithms are checked in the same way.\n",
    "MassiveTest(BFS)"
   ]
  },
  {
   "cell_type": "markdown",
   "metadata": {},
   "source": [
    "## Depth-First Search (DFS)"
   ]
  },
  {
   "cell_type": "code",
   "execution_count": 12,
   "metadata": {},
   "outputs": [],
   "source": [
    "# TODO Implementation of Depth-First Search algorithm\n",
    "\n",
    "def DFS(state):\n",
    "    if StateIsGoal(state):\n",
    "        return True, state\n",
    "    for nxt in GetSuccessors(state):\n",
    "        found, resState = DFS(nxt)\n",
    "        if found:\n",
    "            return found, resState\n",
    "    return False, None"
   ]
  },
  {
   "cell_type": "markdown",
   "metadata": {},
   "source": [
    "Using DFS, you will most likely encounter the fact that this algorithm overcomes the threshold of recursive calls, after which the execution will interrupted. "
   ]
  },
  {
   "cell_type": "code",
   "execution_count": 13,
   "metadata": {
    "tags": []
   },
   "outputs": [
    {
     "name": "stdout",
     "output_type": "stream",
     "text": [
      "Execution error\n",
      "maximum recursion depth exceeded while calling a Python object\n"
     ]
    }
   ],
   "source": [
    "SimpleTest(DFS)"
   ]
  },
  {
   "cell_type": "markdown",
   "metadata": {},
   "source": [
    "But you can create such a simple task, which can be solved by DFS"
   ]
  },
  {
   "cell_type": "code",
   "execution_count": 14,
   "metadata": {},
   "outputs": [],
   "source": [
    "def DFSSimpleTest(SearchFunction, *args):\n",
    "    # Insert the task that can be solved by a DFS solver\n",
    "    YourTileList = [1, 2, 4, 3]\n",
    "    \n",
    "    startState = GemPuzzleState(YourTileList)\n",
    "    try:\n",
    "        result = SearchFunction(startState, *args)\n",
    "        curr = result[1]\n",
    "        if(result[0]):\n",
    "            if(CheckPath(curr)):\n",
    "                print(\"Path is OK!\")\n",
    "                path = GetPath(result[1])\n",
    "\n",
    "                while len(path) != 0:\n",
    "                    s = path.pop()\n",
    "                    s.Print()\n",
    "            else:\n",
    "                print(\"Path is not OK(\")\n",
    "        else:\n",
    "            print(\"Path not found(\")\n",
    "    except Exception as e:\n",
    "        print(\"Execution error\")\n",
    "        print(e)"
   ]
  },
  {
   "cell_type": "code",
   "execution_count": 15,
   "metadata": {
    "tags": []
   },
   "outputs": [
    {
     "name": "stdout",
     "output_type": "stream",
     "text": [
      "Path is OK!\n",
      "\n",
      "1 2 \n",
      "_ 3 \n",
      "\n",
      "1 2 \n",
      "3 _ \n"
     ]
    }
   ],
   "source": [
    "DFSSimpleTest(DFS)"
   ]
  },
  {
   "cell_type": "code",
   "execution_count": 16,
   "metadata": {
    "tags": []
   },
   "outputs": [],
   "source": [
    "# There is no need to start MassiveTest\n",
    "#MassiveTest(DFS)"
   ]
  },
  {
   "cell_type": "markdown",
   "metadata": {},
   "source": [
    "## Depth First Search with Limited Depth\n",
    "One of the way to solve problem of overcoming the threshold of recursive calls is explicitly limit the to depth of the search tree by passing an appropriate parameter `limit` to the search algorithm. The second parameter `depth` is a technical one needed for the implementation. It represents the current depth of the search. Initially (when invoked on the start state of the problem) it is, indeed, equal to 0."
   ]
  },
  {
   "cell_type": "code",
   "execution_count": 17,
   "metadata": {},
   "outputs": [],
   "source": [
    "# TODO Implementation of Depth-Limited Search algorithm\n",
    "\n",
    "def DFSL(state, limit, depth):\n",
    "    if StateIsGoal(state):\n",
    "        return True, state\n",
    "    if depth < limit:\n",
    "        for nxt in GetSuccessors(state):\n",
    "            found, resState = DFSL(nxt, limit, depth + 1)\n",
    "            if found:\n",
    "                return found, resState\n",
    "    return False, None"
   ]
  },
  {
   "cell_type": "markdown",
   "metadata": {},
   "source": [
    "Let's check this approach with several different limits"
   ]
  },
  {
   "cell_type": "code",
   "execution_count": 18,
   "metadata": {
    "tags": []
   },
   "outputs": [
    {
     "name": "stdout",
     "output_type": "stream",
     "text": [
      "Path not found(\n"
     ]
    }
   ],
   "source": [
    "SimpleTest(DFSL, 3, 0)"
   ]
  },
  {
   "cell_type": "code",
   "execution_count": 19,
   "metadata": {
    "tags": []
   },
   "outputs": [
    {
     "name": "stdout",
     "output_type": "stream",
     "text": [
      "Path is OK!\n",
      "\n",
      "3 1 \n",
      "2 _ \n",
      "\n",
      "3 1 \n",
      "_ 2 \n",
      "\n",
      "_ 1 \n",
      "3 2 \n",
      "\n",
      "1 _ \n",
      "3 2 \n",
      "\n",
      "1 2 \n",
      "3 _ \n"
     ]
    }
   ],
   "source": [
    "SimpleTest(DFSL, 5, 0)"
   ]
  },
  {
   "cell_type": "code",
   "execution_count": 20,
   "metadata": {
    "tags": []
   },
   "outputs": [
    {
     "name": "stdout",
     "output_type": "stream",
     "text": [
      "Path is OK!\n",
      "\n",
      "3 1 \n",
      "2 _ \n",
      "\n",
      "3 1 \n",
      "_ 2 \n",
      "\n",
      "3 1 \n",
      "2 _ \n",
      "\n",
      "3 1 \n",
      "_ 2 \n",
      "\n",
      "3 1 \n",
      "2 _ \n",
      "\n",
      "3 1 \n",
      "_ 2 \n",
      "\n",
      "3 1 \n",
      "2 _ \n",
      "\n",
      "3 1 \n",
      "_ 2 \n",
      "\n",
      "_ 1 \n",
      "3 2 \n",
      "\n",
      "1 _ \n",
      "3 2 \n",
      "\n",
      "1 2 \n",
      "3 _ \n"
     ]
    }
   ],
   "source": [
    "SimpleTest(DFSL, 10, 0)"
   ]
  },
  {
   "cell_type": "code",
   "execution_count": 21,
   "metadata": {
    "tags": []
   },
   "outputs": [
    {
     "name": "stdout",
     "output_type": "stream",
     "text": [
      "1 Path not found(\n",
      "2 Path not found(\n",
      "3 Path is OK!\n",
      "4 Path is OK!\n",
      "5 Path is OK!\n",
      "6 Path not found(\n",
      "7 Path not found(\n",
      "8 Path not found(\n"
     ]
    }
   ],
   "source": [
    "MassiveTest(DFSL, 3, 0)"
   ]
  },
  {
   "cell_type": "code",
   "execution_count": 22,
   "metadata": {
    "tags": []
   },
   "outputs": [
    {
     "name": "stdout",
     "output_type": "stream",
     "text": [
      "1 Path is OK!\n",
      "2 Path is OK!\n",
      "3 Path is OK!\n",
      "4 Path is OK!\n",
      "5 Path is OK!\n",
      "6 Path is OK!\n",
      "7 Path is OK!\n",
      "8 Path not found(\n"
     ]
    }
   ],
   "source": [
    "MassiveTest(DFSL, 5, 0)"
   ]
  },
  {
   "cell_type": "code",
   "execution_count": 23,
   "metadata": {
    "tags": []
   },
   "outputs": [
    {
     "name": "stdout",
     "output_type": "stream",
     "text": [
      "1 Path is OK!\n",
      "2 Path is OK!\n",
      "3 Path is OK!\n",
      "4 Path is OK!\n",
      "5 Path is OK!\n",
      "6 Path is OK!\n",
      "7 Path is OK!\n",
      "8 Path is OK!\n"
     ]
    }
   ],
   "source": [
    "MassiveTest(DFSL, 10, 0)"
   ]
  },
  {
   "cell_type": "markdown",
   "metadata": {},
   "source": [
    "## Depth First Iterative Deepening Search (DFID)\n",
    "Finally let's sequentially invoke DFS with increasing depth limits. This is called the Depth First Iterative Deepening algorithm. It will inded find a solution if one exists."
   ]
  },
  {
   "cell_type": "code",
   "execution_count": 24,
   "metadata": {},
   "outputs": [],
   "source": [
    "# TODO Implementation of Iterative-Deepening Depth-First Search\n",
    "def DFID(state):\n",
    "    limit = 0\n",
    "    while True:\n",
    "        found, resState = DFSL(state, limit, 0)\n",
    "        if found:\n",
    "            return found, resState\n",
    "        limit += 1\n",
    "    \n",
    "    #replace return (False, None) with an appropriate code"
   ]
  },
  {
   "cell_type": "code",
   "execution_count": 25,
   "metadata": {
    "tags": []
   },
   "outputs": [
    {
     "name": "stdout",
     "output_type": "stream",
     "text": [
      "Path is OK!\n",
      "\n",
      "3 1 \n",
      "2 _ \n",
      "\n",
      "3 1 \n",
      "_ 2 \n",
      "\n",
      "_ 1 \n",
      "3 2 \n",
      "\n",
      "1 _ \n",
      "3 2 \n",
      "\n",
      "1 2 \n",
      "3 _ \n"
     ]
    }
   ],
   "source": [
    "SimpleTest(DFID)"
   ]
  },
  {
   "cell_type": "code",
   "execution_count": 26,
   "metadata": {
    "tags": []
   },
   "outputs": [
    {
     "name": "stdout",
     "output_type": "stream",
     "text": [
      "1 Path is OK!\n",
      "2 Path is OK!\n",
      "3 Path is OK!\n",
      "4 Path is OK!\n",
      "5 Path is OK!\n",
      "6 Path is OK!\n",
      "7 Path is OK!\n",
      "8 Path is OK!\n"
     ]
    }
   ],
   "source": [
    "MassiveTest(DFID)"
   ]
  },
  {
   "cell_type": "markdown",
   "metadata": {},
   "source": [
    "## Pancake Sorting"
   ]
  },
  {
   "cell_type": "markdown",
   "metadata": {
    "tags": []
   },
   "source": [
    "![Example](Image/Cat.jpg)"
   ]
  },
  {
   "cell_type": "markdown",
   "metadata": {},
   "source": [
    "Pancake sorting is the colloquial term for the mathematical problem of sorting a disordered stack of pancakes in order of size when a spatula can be inserted at any point in the stack and used to flip all pancakes above it (See picture below) [[Wikipedia](https://en.wikipedia.org/wiki/Pancake_sorting)]."
   ]
  },
  {
   "cell_type": "markdown",
   "metadata": {
    "tags": []
   },
   "source": [
    "![Example](Image/Pancake.png)"
   ]
  },
  {
   "cell_type": "markdown",
   "metadata": {},
   "source": [
    "### Representation of a state\n",
    "In this task you should create your own implementation of pancake sorting problem state (and all related funtions) with your own test data. Note, that the interface of the state-class must be the same as for the `GemPuzzleState` thus all the machinery introduced before (e.g. automated tests) will work out-of-the-box."
   ]
  },
  {
   "cell_type": "code",
   "execution_count": 27,
   "metadata": {},
   "outputs": [],
   "source": [
    "class PancakeDish:\n",
    "    # Constructor\n",
    "    def __init__(self, pancakes):\n",
    "        self.pancakes = pancakes\n",
    "        self.parent = None\n",
    "       \n",
    "    # Compare with other state. Using for path checking\n",
    "    def __eq__(self, other):\n",
    "        return self.pancakes == other.pancakes\n",
    "\n",
    "\n",
    "    # Prints state in form of tile matrix\n",
    "    def Print(self):\n",
    "        print()\n",
    "        for sz in self.pancakes:\n",
    "            print('=' * sz)\n",
    "        print()\n"
   ]
  },
  {
   "cell_type": "code",
   "execution_count": 28,
   "metadata": {},
   "outputs": [],
   "source": [
    "def GetSuccessors(state):\n",
    "    successors = []\n",
    "\n",
    "    for i in range(2, len(state.pancakes) + 1):\n",
    "        newState = copy.deepcopy(state)\n",
    "        newState.parent = state\n",
    "        newState.pancakes[:i] = newState.pancakes[i-1::-1]\n",
    "        successors.append(newState)\n",
    "\n",
    "    return successors"
   ]
  },
  {
   "cell_type": "code",
   "execution_count": 29,
   "metadata": {
    "tags": []
   },
   "outputs": [],
   "source": [
    "def StateIsGoal(state):\n",
    "    for i in range(1, len(state.pancakes)):\n",
    "        if state.pancakes[i] < state.pancakes[i-1]:\n",
    "            return False\n",
    "    return True\n"
   ]
  },
  {
   "cell_type": "code",
   "execution_count": 30,
   "metadata": {},
   "outputs": [],
   "source": [
    "def SimpleTest(SearchFunction, *args):\n",
    "    startState = PancakeDish([3, 2, 4, 1])\n",
    "    try:\n",
    "        result = SearchFunction(startState, *args)\n",
    "        curr = result[1]\n",
    "        if(result[0]):\n",
    "            if(CheckPath(curr)):\n",
    "                print(\"Path is OK!\")\n",
    "\n",
    "                stack = []\n",
    "                curr = result[1]\n",
    "                while curr is not None:\n",
    "                    stack.append(curr)\n",
    "                    curr = curr.parent\n",
    "\n",
    "                while len(stack) != 0:\n",
    "                    s = stack.pop()\n",
    "                    s.Print()\n",
    "            else:\n",
    "                print(\"Path is not OK(\")\n",
    "        else:\n",
    "            print(\"Path not found(\")\n",
    "    except Exception as e:\n",
    "        print(\"Execution error\")\n",
    "        print(e)"
   ]
  },
  {
   "cell_type": "code",
   "execution_count": 31,
   "metadata": {},
   "outputs": [],
   "source": [
    "def MassiveTest(SearchFunction, *args):\n",
    "    # TODO your file with at least 8 different tasks\n",
    "    tasksFile = open('Data/tasksPan.txt')\n",
    "    count = 0\n",
    "    for l in tasksFile:\n",
    "        count += 1\n",
    "        state = list(map(int, l.split()))\n",
    "        task = PancakeDish(state)\n",
    "        try:\n",
    "            result = SearchFunction(task, *args)\n",
    "            curr = result[1]\n",
    "            if(result[0]):\n",
    "                if(CheckPath(curr)):\n",
    "                    print(count, \"Path is OK!\")\n",
    "                else:\n",
    "                    print(count, \"Path is not OK(\")\n",
    "            else:\n",
    "                print(count, \"Path not found(\")\n",
    "        except Exception as e:\n",
    "            print(count, \"Execution error\")\n",
    "            print(e)"
   ]
  },
  {
   "cell_type": "markdown",
   "metadata": {},
   "source": [
    "## Lets check!"
   ]
  },
  {
   "cell_type": "code",
   "execution_count": 32,
   "metadata": {
    "tags": []
   },
   "outputs": [
    {
     "name": "stdout",
     "output_type": "stream",
     "text": [
      "Path is OK!\n",
      "\n",
      "===\n",
      "==\n",
      "====\n",
      "=\n",
      "\n",
      "\n",
      "==\n",
      "===\n",
      "====\n",
      "=\n",
      "\n",
      "\n",
      "====\n",
      "===\n",
      "==\n",
      "=\n",
      "\n",
      "\n",
      "=\n",
      "==\n",
      "===\n",
      "====\n",
      "\n"
     ]
    }
   ],
   "source": [
    "SimpleTest(BFS)"
   ]
  },
  {
   "cell_type": "code",
   "execution_count": 33,
   "metadata": {
    "tags": []
   },
   "outputs": [
    {
     "name": "stdout",
     "output_type": "stream",
     "text": [
      "1 Path is OK!\n",
      "2 Path is OK!\n",
      "3 Path is OK!\n",
      "4 Path is OK!\n",
      "5 Path is OK!\n",
      "6 Path is OK!\n"
     ]
    }
   ],
   "source": [
    "MassiveTest(BFS)"
   ]
  },
  {
   "cell_type": "code",
   "execution_count": 34,
   "metadata": {
    "tags": []
   },
   "outputs": [
    {
     "name": "stdout",
     "output_type": "stream",
     "text": [
      "Execution error\n",
      "maximum recursion depth exceeded while calling a Python object\n"
     ]
    }
   ],
   "source": [
    "SimpleTest(DFS)"
   ]
  },
  {
   "cell_type": "code",
   "execution_count": 35,
   "metadata": {
    "tags": []
   },
   "outputs": [],
   "source": [
    "#MassiveTest(DFS)"
   ]
  },
  {
   "cell_type": "code",
   "execution_count": 36,
   "metadata": {
    "tags": []
   },
   "outputs": [
    {
     "name": "stdout",
     "output_type": "stream",
     "text": [
      "Path not found(\n",
      "Path is OK!\n",
      "\n",
      "===\n",
      "==\n",
      "====\n",
      "=\n",
      "\n",
      "\n",
      "==\n",
      "===\n",
      "====\n",
      "=\n",
      "\n",
      "\n",
      "===\n",
      "==\n",
      "====\n",
      "=\n",
      "\n",
      "\n",
      "==\n",
      "===\n",
      "====\n",
      "=\n",
      "\n",
      "\n",
      "====\n",
      "===\n",
      "==\n",
      "=\n",
      "\n",
      "\n",
      "=\n",
      "==\n",
      "===\n",
      "====\n",
      "\n",
      "Path is OK!\n",
      "\n",
      "===\n",
      "==\n",
      "====\n",
      "=\n",
      "\n",
      "\n",
      "==\n",
      "===\n",
      "====\n",
      "=\n",
      "\n",
      "\n",
      "===\n",
      "==\n",
      "====\n",
      "=\n",
      "\n",
      "\n",
      "==\n",
      "===\n",
      "====\n",
      "=\n",
      "\n",
      "\n",
      "===\n",
      "==\n",
      "====\n",
      "=\n",
      "\n",
      "\n",
      "==\n",
      "===\n",
      "====\n",
      "=\n",
      "\n",
      "\n",
      "===\n",
      "==\n",
      "====\n",
      "=\n",
      "\n",
      "\n",
      "==\n",
      "===\n",
      "====\n",
      "=\n",
      "\n",
      "\n",
      "====\n",
      "===\n",
      "==\n",
      "=\n",
      "\n",
      "\n",
      "=\n",
      "==\n",
      "===\n",
      "====\n",
      "\n"
     ]
    }
   ],
   "source": [
    "SimpleTest(DFSL, 2, 0)\n",
    "SimpleTest(DFSL, 5, 0)\n",
    "SimpleTest(DFSL, 10, 0)\n"
   ]
  },
  {
   "cell_type": "code",
   "execution_count": 37,
   "metadata": {
    "tags": []
   },
   "outputs": [
    {
     "name": "stdout",
     "output_type": "stream",
     "text": [
      "1 Path not found(\n",
      "2 Path not found(\n",
      "3 Path not found(\n",
      "4 Path is OK!\n",
      "5 Path not found(\n",
      "6 Path not found(\n"
     ]
    }
   ],
   "source": [
    "MassiveTest(DFSL, 2, 0)"
   ]
  },
  {
   "cell_type": "code",
   "execution_count": 38,
   "metadata": {
    "tags": []
   },
   "outputs": [
    {
     "name": "stdout",
     "output_type": "stream",
     "text": [
      "1 Path is OK!\n",
      "2 Path is OK!\n",
      "3 Path is OK!\n",
      "4 Path is OK!\n",
      "5 Path not found(\n",
      "6 Path not found(\n"
     ]
    }
   ],
   "source": [
    "MassiveTest(DFSL, 5, 0)"
   ]
  },
  {
   "cell_type": "code",
   "execution_count": 39,
   "metadata": {
    "tags": []
   },
   "outputs": [
    {
     "name": "stdout",
     "output_type": "stream",
     "text": [
      "1 Path is OK!\n",
      "2 Path is OK!\n",
      "3 Path is OK!\n",
      "4 Path is OK!\n",
      "5 Path is OK!\n",
      "6 Path is OK!\n"
     ]
    }
   ],
   "source": [
    "MassiveTest(DFSL, 10, 0)"
   ]
  },
  {
   "cell_type": "code",
   "execution_count": 40,
   "metadata": {
    "tags": []
   },
   "outputs": [
    {
     "name": "stdout",
     "output_type": "stream",
     "text": [
      "Path is OK!\n",
      "\n",
      "===\n",
      "==\n",
      "====\n",
      "=\n",
      "\n",
      "\n",
      "==\n",
      "===\n",
      "====\n",
      "=\n",
      "\n",
      "\n",
      "====\n",
      "===\n",
      "==\n",
      "=\n",
      "\n",
      "\n",
      "=\n",
      "==\n",
      "===\n",
      "====\n",
      "\n"
     ]
    }
   ],
   "source": [
    "SimpleTest(DFID)"
   ]
  },
  {
   "cell_type": "code",
   "execution_count": 41,
   "metadata": {
    "tags": []
   },
   "outputs": [
    {
     "name": "stdout",
     "output_type": "stream",
     "text": [
      "1 Path is OK!\n",
      "2 Path is OK!\n",
      "3 Path is OK!\n",
      "4 Path is OK!\n",
      "5 Path is OK!\n",
      "6 Path is OK!\n"
     ]
    }
   ],
   "source": [
    "MassiveTest(DFID)"
   ]
  },
  {
   "cell_type": "markdown",
   "metadata": {},
   "source": [
    "## References\n",
    "1. https://cs.lmu.edu/~ray/notes/usearch/\n",
    "2. https://lanwuwei.github.io/courses/SP19/3521_slides/4-Informed-Search_1.pdf"
   ]
  }
 ],
 "metadata": {
  "kernelspec": {
   "display_name": "Python 3",
   "language": "python",
   "name": "python3"
  },
  "language_info": {
   "codemirror_mode": {
    "name": "ipython",
    "version": 3
   },
   "file_extension": ".py",
   "mimetype": "text/x-python",
   "name": "python",
   "nbconvert_exporter": "python",
   "pygments_lexer": "ipython3",
   "version": "3.7.3"
  }
 },
 "nbformat": 4,
 "nbformat_minor": 2
}