{
 "cells": [
  {
   "cell_type": "markdown",
   "metadata": {},
   "source": [
    "# Path Planning on Grid (Part 2)\n",
    "In this lab your task is to conduct an experimental study of how various heuristics (and tie-breakers) influence the performance of A* algorithm in the task of grid-based path finding. \n",
    "\n",
    "Before experimenting, you need to prepare a set of input data. It is required to use [[MovingAI](https://movingai.com/benchmarks/grids.html)] benchmark for this purpose. The input data must be approprietaly handled and the results of each individual run must be stored for further analysis.\n",
    "\n",
    "In this lab we assume that the grid is 8-connected, i.e. moves to both cardinally and diagonally adjacent cells are allowed (and their cost equal the distance between the centers of two cells). However 'cutting corners' is prohibited (as explained later in the lab).\n",
    "\n",
    "To accomplish the lab you need to change the code in particular cells according to the instructions provided. \n",
    "\n",
    "You will also have to write a short essay (in the last text cell) desribing the results you have obtain.\n",
    "\n",
    "Good luck!"
   ]
  },
  {
   "cell_type": "markdown",
   "metadata": {},
   "source": [
    "![1](./Image/1.png)"
   ]
  },
  {
   "cell_type": "code",
   "execution_count": 1,
   "metadata": {},
   "outputs": [],
   "source": [
    "import time\n",
    "\n",
    "from PIL import Image, ImageDraw\n",
    "import numpy as np\n",
    "import matplotlib.pyplot as plt\n",
    "import math\n",
    "from heapq import heappop, heappush\n",
    "%matplotlib inline\n",
    "EPS = 0.000001"
   ]
  },
  {
   "cell_type": "markdown",
   "metadata": {},
   "source": [
    "### Grid map representation and allowed moves on a grid\n",
    "\n",
    "Square grid map class represents agent's environment\n",
    "\n",
    "- width -- the number of rows in grid\n",
    "- height -- the number of columns in grid\n",
    "- cells -- the binary matrix, which represents the grid. 0 - cell is traversable\n",
    "1 - cell is blocked\n",
    "\n",
    "You have to code the getNeigbors fucntions that allows both cardinal and diagonal moves, but dissalows cutting corners and squezzing (see below)"
   ]
  },
  {
   "cell_type": "markdown",
   "metadata": {},
   "source": [
    "![1](./Image/сutcorners.png)"
   ]
  },
  {
   "cell_type": "code",
   "execution_count": 2,
   "metadata": {},
   "outputs": [],
   "source": [
    "class Map:\n",
    "\n",
    "    def __init__(self):\n",
    "        '''\n",
    "        Default constructor\n",
    "        '''\n",
    "\n",
    "        self._width = 0\n",
    "        self._height = 0\n",
    "        self._cells = []\n",
    "    \n",
    "\n",
    "    def read_from_string(self, cell_str, width, height):\n",
    "        '''\n",
    "        Converting a string (with '#' representing obstacles and '.' representing free cells) to a grid\n",
    "        '''\n",
    "        self._width = width\n",
    "        self._height = height\n",
    "        self._cells = [[0 for _ in range(width)] for _ in range(height)]\n",
    "        cell_lines = cell_str.split(\"\\n\")\n",
    "        i = 0\n",
    "        j = 0\n",
    "        for l in cell_lines:\n",
    "            if len(l) != 0:\n",
    "                j = 0\n",
    "                for c in l:\n",
    "                    if c == '.':\n",
    "                        self._cells[i][j] = 0\n",
    "                    elif c == '#':\n",
    "                        self._cells[i][j] = 1\n",
    "                    else:\n",
    "                        continue\n",
    "                    j += 1\n",
    "                if j != width:\n",
    "                    raise Exception(\"Size Error. Map width = \", j, \", but must be\", width )\n",
    "                \n",
    "                i += 1\n",
    "\n",
    "        if i != height:\n",
    "            raise Exception(\"Size Error. Map height = \", i, \", but must be\", height )\n",
    "    \n",
    "     \n",
    "    def set_grid_cells(self, width, height, grid_cells):\n",
    "        '''\n",
    "        Initialization of map by list of cells.\n",
    "        '''\n",
    "        self._width = width\n",
    "        self._height = height\n",
    "        self._cells = grid_cells\n",
    "\n",
    "\n",
    "    def in_bounds(self, i, j):\n",
    "        '''\n",
    "        Check if the cell is on a grid.\n",
    "        '''\n",
    "        return (0 <= j < self._width) and (0 <= i < self._height)\n",
    "    \n",
    "\n",
    "    def traversable(self, i, j):\n",
    "        '''\n",
    "        Check if the cell is not an obstacle.\n",
    "        '''\n",
    "        return not self._cells[i][j]\n",
    "    \n",
    "    def get_neighbors(self, i, j):\n",
    "        '''\n",
    "        Get a list of neighbouring cells as (i,j) tuples.\n",
    "        It's assumed that grid is 8-connected but cutting corners is prohibited\n",
    "        '''\n",
    "        neighbors = []\n",
    "\n",
    "        for di in [-1, 0, 1]:\n",
    "            for dj in [-1, 0, 1]:\n",
    "                if di == 0 and dj == 0:\n",
    "                    continue\n",
    "                n_i, n_j = i + di, j + dj\n",
    "                if self.in_bounds(n_i, n_j) and \\\n",
    "                    self.traversable(n_i, n_j) and \\\n",
    "                    self.traversable(n_i, j) and \\\n",
    "                    self.traversable(i, n_j):\n",
    "                    neighbors.append((n_i, n_j))\n",
    "\n",
    "        return neighbors\n",
    "\n",
    "    def get_size(self):\n",
    "        return (self._height, self._width)"
   ]
  },
  {
   "cell_type": "markdown",
   "metadata": {},
   "source": [
    "Computes a cost of a transition from cell `(i1, j1)` to cell `(i2, j2)`"
   ]
  },
  {
   "cell_type": "code",
   "execution_count": 3,
   "metadata": {},
   "outputs": [],
   "source": [
    "def compute_cost(i1, j1, i2, j2):\n",
    "    '''\n",
    "    Computes cost of a move between the adjacent cells\n",
    "    '''\n",
    "    if abs(i1 - i2) + abs(j1 - j2) == 1: #cardinal move\n",
    "        return 1\n",
    "    elif abs(i1 - i2) + abs(j1 - j2) == 2: #diagonal move\n",
    "        return math.sqrt(2)\n",
    "    else:\n",
    "        raise Exception('Trying to compute the cost of a non-supported move! ONLY cardinal and diagonal moves are supported.')"
   ]
  },
  {
   "cell_type": "markdown",
   "metadata": {},
   "source": [
    "### Node representation\n",
    "\n",
    "Node class represents a search node\n",
    "\n",
    "- i, j: coordinates of corresponding grid element\n",
    "- g: g-value of the node\n",
    "- h: h-value of the node\n",
    "- F: f-value of the node\n",
    "- parent: pointer to the parent-node "
   ]
  },
  {
   "cell_type": "code",
   "execution_count": 4,
   "metadata": {},
   "outputs": [],
   "source": [
    "class Node:\n",
    "    '''\n",
    "    Node class represents a search node\n",
    "\n",
    "    - i, j: coordinates of corresponding grid element\n",
    "    - g: g-value of the node\n",
    "    - h: h-value of the node\n",
    "    - F: f-value of the node\n",
    "    - parent: pointer to the parent-node \n",
    "\n",
    "    You might want to add other fields/methods for Node\n",
    "    '''\n",
    "\n",
    "    def __init__(self, i, j, g = 0, h = 0, F = None, parent = None, k = 0):\n",
    "        self.i = i\n",
    "        self.j = j\n",
    "        self.g = g\n",
    "        self.h = h\n",
    "        if F is None:\n",
    "            self.F = self.g + h\n",
    "        else:\n",
    "            self.F = F        \n",
    "        self.parent = parent\n",
    "\n",
    "    def __lt__(self, other):\n",
    "        return (self.F, self.h) < (other.F, other.h)\n",
    "\n",
    "    def get_pos(self):\n",
    "        return self.i, self.j"
   ]
  },
  {
   "cell_type": "markdown",
   "metadata": {},
   "source": [
    "### Open and close sets implementation\n",
    "A crucial part of any search algorithm (A* including) is the code for handling OPEN/CLOSED 'lists'. Ineffective implementation of these 'lists' may become a bottleneck, expecially for large instances. So try your best to implement OPEN and CLOSED efficiently and correctly."
   ]
  },
  {
   "cell_type": "code",
   "execution_count": 5,
   "metadata": {},
   "outputs": [],
   "source": [
    "import heapq\n",
    "\n",
    "class Open:\n",
    "\n",
    "    heap: list[Node]\n",
    "    nodes: dict[(int, int), Node]\n",
    "\n",
    "    def __init__(self):\n",
    "        self.heap = []\n",
    "        self.nodes = dict()\n",
    "\n",
    "    def __len__(self):\n",
    "        return len(self.nodes)\n",
    "\n",
    "    def __iter__(self):\n",
    "        return iter(self.nodes.values())\n",
    "\n",
    "    def is_empty(self):\n",
    "        return len(self) == 0\n",
    "\n",
    "    def add_node(self, node: Node):\n",
    "        pos = node.get_pos()\n",
    "        if pos in self.nodes:\n",
    "            if self.nodes[pos].g < node.g:\n",
    "                return\n",
    "        heapq.heappush(self.heap, node)\n",
    "        self.nodes[pos] = node\n",
    "\n",
    "    def get_best(self):\n",
    "        while True:\n",
    "            best = self.heap[0]\n",
    "            pos = best.get_pos()\n",
    "            heapq.heappop(self.heap)\n",
    "            if pos in self.nodes:\n",
    "                del self.nodes[pos]\n",
    "                return best\n"
   ]
  },
  {
   "cell_type": "code",
   "execution_count": 6,
   "metadata": {},
   "outputs": [],
   "source": [
    "class Closed:\n",
    "\n",
    "    nodes = dict[(int, int), Node]\n",
    "\n",
    "    def __init__(self):\n",
    "        self.nodes = dict()\n",
    "\n",
    "    def add_node(self, node: Node):\n",
    "        self.nodes[node.get_pos()] = node\n",
    "\n",
    "    def __contains__(self, node_pos: (int, int)):\n",
    "        return node_pos in self.nodes\n",
    "\n",
    "    def __len__(self):\n",
    "        return len(self.nodes)\n",
    "\n",
    "    def __iter__(self):\n",
    "        return iter(self.nodes.values())\n"
   ]
  },
  {
   "cell_type": "markdown",
   "metadata": {},
   "source": [
    "## A* algorithm with different heuristics\n",
    "Implement 3 different heuristic functions besides the given Manhattan distance - Diagonal distance, Chebyshev distance, Euclidean distance. After that, implement A* using YourOpen and YourClosed.\n",
    "\n",
    "Importanly, your search algorithm needs to return the following:\n",
    "- boolean flag indicating whether the path was found or not\n",
    "- goal state (so you can reconstruct the path later using the parent pointers)\n",
    "- Open and Closed 'lists' so you can use them for further analysis (i.e. computing how many nodes were created within the search process, how many expansions were made etc.)"
   ]
  },
  {
   "cell_type": "code",
   "execution_count": 7,
   "metadata": {},
   "outputs": [],
   "source": [
    "def manhattan_distance(i1, j1, i2, j2):\n",
    "    return abs(abs(int(i1) - int(i2)) + abs(int(j1) - int(j2)))"
   ]
  },
  {
   "cell_type": "code",
   "execution_count": 8,
   "metadata": {},
   "outputs": [],
   "source": [
    "def diagonal_distance(i1, j1, i2, j2):\n",
    "    x = abs(i1 - i2)\n",
    "    y = abs(j1 - j2)\n",
    "    return min(x, y) * math.sqrt(2) + abs(x - y)\n"
   ]
  },
  {
   "cell_type": "code",
   "execution_count": 9,
   "metadata": {},
   "outputs": [],
   "source": [
    "def chebyshev_distance(i1, j1, i2, j2):\n",
    "    return max(abs(i1 - i2), abs(j1 - j2))"
   ]
  },
  {
   "cell_type": "code",
   "execution_count": 10,
   "metadata": {},
   "outputs": [],
   "source": [
    "def euclidean_distance(i1, j1, i2, j2):\n",
    "    return math.sqrt((i1 - i2) ** 2 + (j1 - j2) ** 2)"
   ]
  },
  {
   "cell_type": "code",
   "execution_count": 11,
   "metadata": {},
   "outputs": [],
   "source": [
    "def astar(grid_map: Map, start_i, start_j, goal_i, goal_j, heuristic_func):\n",
    "    '''\n",
    "        Implement A*.\n",
    "        \n",
    "        The result should be a tuple:\n",
    "        - path found/not found (True/False)\n",
    "        - the goal node (None if path was not found)\n",
    "        - CLOSED (as per last iteration of the search)\n",
    "        - OPEN (as per last iteration of the search)\n",
    "        \n",
    "    '''\n",
    "    \n",
    "    OPEN = Open()\n",
    "    CLOSED = Closed()\n",
    "\n",
    "    h0 = heuristic_func(start_i, start_j, goal_i, goal_j)\n",
    "    OPEN.add_node(Node(start_i, start_j, h=h0))\n",
    "\n",
    "    while not OPEN.is_empty():\n",
    "        node = OPEN.get_best()\n",
    "        CLOSED.add_node(node)\n",
    "        if node.get_pos() == (goal_i, goal_j):\n",
    "            return True, node, CLOSED, OPEN\n",
    "        for nxt_i, nxt_j in grid_map.get_neighbors(node.i, node.j):\n",
    "            if (nxt_i, nxt_j) not in CLOSED:\n",
    "                cost = compute_cost(node.i, node.j, nxt_i, nxt_j)\n",
    "                h = heuristic_func(nxt_i, nxt_j, goal_i, goal_j)\n",
    "                OPEN.add_node(\n",
    "                    Node(nxt_i, nxt_j, node.g + cost, h, parent=node)\n",
    "                )\n",
    "\n",
    "    return False, None, CLOSED, OPEN\n"
   ]
  },
  {
   "cell_type": "markdown",
   "metadata": {},
   "source": [
    "### Make Path\n",
    "This is an auxiliary function that reconstructs a path (i.e. the sequence on moves from start to goal) given a search tree, created by the search algorithm. It basically unwinds the path using the parent pointers. It also returns a length of the path."
   ]
  },
  {
   "cell_type": "code",
   "execution_count": 12,
   "metadata": {},
   "outputs": [],
   "source": [
    "def make_path(goal):\n",
    "    '''\n",
    "    Creates a path by tracing parent pointers from the goal node to the start node\n",
    "    It also returns path's length.\n",
    "    '''\n",
    "\n",
    "    length = goal.g\n",
    "    current = goal\n",
    "    path = []\n",
    "    while current.parent:\n",
    "        path.append(current)\n",
    "        current = current.parent\n",
    "    path.append(current)\n",
    "    return path[::-1], length"
   ]
  },
  {
   "cell_type": "markdown",
   "metadata": {},
   "source": [
    "### Simple Single Test\n",
    "This function helps you to run a test of your search algorithm on a single instance (map + start + goal) and validate the result (provided that you know the correct answer to the path finding query and pass it as a parameter)."
   ]
  },
  {
   "cell_type": "code",
   "execution_count": 13,
   "outputs": [],
   "source": [
    "def draw_map(gridMap : Map, start : Node = None, goal : Node = None, path : list = None, nodesExpanded = None, nodesOpened = None):\n",
    "    '''\n",
    "    Auxiliary function that visualizes the enviromnet, the path and OPEN and CLOSED.\n",
    "    '''\n",
    "    k = 5\n",
    "    hIm = gridMap._height * k\n",
    "    wIm = gridMap._width * k\n",
    "    im = Image.new('RGB', (wIm, hIm), color = 'white')\n",
    "    draw = ImageDraw.Draw(im)\n",
    "    for i in range(gridMap._height):\n",
    "        for j in range(gridMap._width):\n",
    "            if(gridMap._cells[i][j] == 1):\n",
    "                draw.rectangle((j * k, i * k, (j + 1) * k - 1, (i + 1) * k - 1), fill=( 70, 80, 80 ))\n",
    "\n",
    "    if nodesOpened is not None:\n",
    "        for node in nodesOpened:\n",
    "            draw.rectangle((node.j * k, node.i * k, (node.j + 1) * k - 1, (node.i + 1) * k - 1), fill=(213, 219, 219), width=0)\n",
    "\n",
    "    if nodesExpanded is not None:\n",
    "        for node in nodesExpanded:\n",
    "            draw.rectangle((node.j * k, node.i * k, (node.j + 1) * k - 1, (node.i + 1) * k - 1), fill=( 131, 145, 146 ), width=0)\n",
    "\n",
    "    if path is not None:\n",
    "        for step in path:\n",
    "            if (step is not None):\n",
    "                if (gridMap.traversable(step.i, step.j)):\n",
    "                    draw.rectangle((step.j * k, step.i * k, (step.j + 1) * k - 1, (step.i + 1) * k - 1), fill=(52, 152, 219), width=0)\n",
    "                else:\n",
    "                    draw.rectangle((step.j * k, step.i * k, (step.j + 1) * k - 1, (step.i + 1) * k - 1), fill=(230, 126, 34), width=0)\n",
    "\n",
    "    if (start is not None) and (gridMap.traversable(start.i, start.j)):\n",
    "        draw.rectangle((start.j * k, start.i * k, (start.j + 1) * k - 1, (start.i + 1) * k - 1), fill=(40, 180, 99), width=0)\n",
    "\n",
    "    if (goal is not None) and (gridMap.traversable(goal.i, goal.j)):\n",
    "        draw.rectangle((goal.j * k, goal.i * k, (goal.j + 1) * k - 1, (goal.i + 1) * k - 1), fill=(231, 76, 60), width=0)\n",
    "\n",
    "\n",
    "    fig, ax = plt.subplots(dpi=150)\n",
    "    ax.axes.xaxis.set_visible(False)\n",
    "    ax.axes.yaxis.set_visible(False)\n",
    "    plt.imshow(np.asarray(im))\n",
    "    plt.show()"
   ],
   "metadata": {
    "collapsed": false,
    "pycharm": {
     "name": "#%%\n"
    }
   }
  },
  {
   "cell_type": "code",
   "execution_count": 14,
   "metadata": {},
   "outputs": [],
   "source": [
    "def simple_test(search_function, height, width, map_str, i_start, j_start, i_goal, j_goal, path_len, *args):\n",
    "    task_map = Map()\n",
    "    task_map.read_from_string(map_str, width, height)\n",
    "    start = Node(i_start, j_start)\n",
    "    goal = Node(i_goal, j_goal)\n",
    "\n",
    "    try:\n",
    "        result = search_function(task_map, start.i, start.j, goal.i, goal.j, *args)\n",
    "        nodes_expanded = result[2]\n",
    "        nodes_opened = result[3]\n",
    "        if result[0]:\n",
    "            path = make_path(result[1])\n",
    "            correct = abs(path[1] - path_len) < EPS\n",
    "            draw_map(task_map, start, goal, path[0], nodes_expanded, nodes_opened)\n",
    "            print(\"Path found! Length: \" + str(path[1]) + \". Nodes created: \" + str(len(nodes_opened) + len(nodes_expanded)) + \". Number of steps: \" + str(len(nodes_expanded)) + \". Correct: \" + str(correct))\n",
    "        else:\n",
    "            print(\"Path not found!\")\n",
    "    except Exception as e:\n",
    "        print(\"Execution error\")\n",
    "        print(e)"
   ]
  },
  {
   "cell_type": "markdown",
   "metadata": {},
   "source": [
    "### Proccessing the Input Data and Storing the Results \n",
    "Recall that in this lab you have to use [[MovingAI](https://movingai.com/benchmarks/grids.html)] benchmark as a source dataset for you experiments. So you need to implement functions that will read the data from the dataset, running tests (with validating that your answer is a correct one) and store the obtained results for further analysis.\n",
    "\n",
    "\n",
    "You can use the provided function definitions to organize your work with the benchmark or create your own."
   ]
  },
  {
   "cell_type": "code",
   "execution_count": 15,
   "metadata": {},
   "outputs": [],
   "source": [
    "def read_map_from_movingai_file(path):\n",
    "    with open(path) as f:\n",
    "        f.readline()\n",
    "        h = int(f.readline().split()[-1])\n",
    "        w = int(f.readline().split()[-1])\n",
    "        f.readline()\n",
    "        grid = [[0] * w for _ in range(h)]\n",
    "        for i in range(h):\n",
    "            line = f.readline()\n",
    "            for j in range(w):\n",
    "                if line[j] in '.G':\n",
    "                    grid[i][j] = 0\n",
    "                else:\n",
    "                    grid[i][j] = 1\n",
    "    res = Map()\n",
    "    res.set_grid_cells(w, h, grid)\n",
    "    return res\n"
   ]
  },
  {
   "cell_type": "code",
   "execution_count": 16,
   "metadata": {},
   "outputs": [],
   "source": [
    "def read_tasks_from_movingai_file(path):\n",
    "    tasks = []\n",
    "\n",
    "    with open(path) as f:\n",
    "        f.readline()\n",
    "        for line in f.readlines():\n",
    "            line = line.split()\n",
    "            tasks.append([\n",
    "                int(line[0]), # bucket\n",
    "                line[1], # name\n",
    "                int(line[2]), # width,\n",
    "                int(line[3]), # height\n",
    "                int(line[5]), # start_i\n",
    "                int(line[4]), # start_j\n",
    "                int(line[7]), # goal_i\n",
    "                int(line[6]), # goal_j\n",
    "                float(line[8]), # optimal length\n",
    "            ])\n",
    "\n",
    "    return tasks "
   ]
  },
  {
   "cell_type": "code",
   "execution_count": 17,
   "metadata": {},
   "outputs": [],
   "source": [
    "import os\n",
    "from tqdm.notebook import tqdm\n",
    "\n",
    "DATA_DIR = ['Data']\n",
    "\n",
    "def massive_test(search_function, *args):\n",
    "    all_tasks_results = dict()\n",
    "    all_tasks_results[\"corr\"] = []\n",
    "    all_tasks_results[\"len\"] = []\n",
    "    all_tasks_results[\"nc\"] = []\n",
    "    all_tasks_results[\"st\"] = []\n",
    "    data_dir = DATA_DIR[0]\n",
    "    maps = dict()\n",
    "    tasks = []\n",
    "    for name in os.listdir(data_dir):\n",
    "        path = os.path.join(data_dir, name)\n",
    "        if os.path.isfile(path):\n",
    "            if name.endswith('.map'):\n",
    "                maps[name] = read_map_from_movingai_file(path)\n",
    "            elif name.endswith('.scen'):\n",
    "                tasks.extend(read_tasks_from_movingai_file(path))\n",
    "\n",
    "    for _, name, w, h, start_i, start_j, goal_i, goal_j, path_len in tqdm(tasks):\n",
    "        task_map = maps[name]\n",
    "        start = Node(start_i, start_j)\n",
    "        goal = Node(goal_i, goal_j)\n",
    "\n",
    "        try:\n",
    "            result = search_function(task_map, start.i, start.j, goal.i, goal.j, *args)\n",
    "            nodes_expanded = result[2]\n",
    "            nodes_opened = result[3]\n",
    "            if result[0]:\n",
    "                path = make_path(result[1])\n",
    "                all_tasks_results[\"len\"].append(path[1])\n",
    "                correct = abs(path[1] - path_len) < EPS\n",
    "                all_tasks_results[\"corr\"].append(correct)\n",
    "            else:\n",
    "                all_tasks_results[\"corr\"].append(False)\n",
    "                all_tasks_results[\"len\"].append(0.0)\n",
    "\n",
    "            all_tasks_results[\"nc\"].append(len(nodes_opened) + len(nodes_expanded))\n",
    "            all_tasks_results[\"st\"].append(len(nodes_expanded))\n",
    "        except Exception as e:\n",
    "            print(\"Execution error\")\n",
    "            print(e)\n",
    "\n",
    "    return all_tasks_results"
   ]
  },
  {
   "cell_type": "markdown",
   "metadata": {},
   "source": [
    "## Now it's time to run simple test"
   ]
  },
  {
   "cell_type": "code",
   "execution_count": 18,
   "metadata": {},
   "outputs": [],
   "source": [
    "height = 15\n",
    "width = 30\n",
    "map_str = '''\n",
    ". . . . . . . . . . . . . . . . . . . . . # # . . . . . . .  \n",
    ". . . . . . . . . . . . . . . . . . . . . # # . . . . . . . \n",
    ". . . . . . . . . . . . . . . . . . . . . # # . . . . . . . \n",
    ". . . # # . . . . . . . . . . . . . . . . # # . . . . . . . \n",
    ". . . # # . . . . . . . . # # . . . . . . # # . . . . . . . \n",
    ". . . # # . . . . . . . . # # . . . . . . # # # # # . . . . \n",
    ". . . # # . . . . . . . . # # . . . . . . # # # # # . . . . \n",
    ". . . # # . . . . . . . . # # . . . . . . . . . . . . . . . \n",
    ". . . # # . . . . . . . . # # . . . . . . . . . . . . . . . \n",
    ". . . # # . . . . . . . . # # . . . . . . . . . . . . . . . \n",
    ". . . # # . . . . . . . . # # . . . . . . . . . . . . . . . \n",
    ". . . # # . . . . . . . . # # . . . . . . . . . . . . . . . \n",
    ". . . . . . . . . . . . . # # . . . . . . . . . . . . . . . \n",
    ". . . . . . . . . . . . . # # . . . . . . . . . . . . . . .\n",
    ". . . . . . . . . . . . . # # . . . . . . . . . . . . . . .\n",
    "'''\n",
    "i_start = 1\n",
    "j_start = 1\n",
    "i_goal = 13\n",
    "j_goal = 28\n",
    "path_len = 31.9705627\n"
   ]
  },
  {
   "cell_type": "code",
   "execution_count": 19,
   "metadata": {
    "tags": []
   },
   "outputs": [
    {
     "data": {
      "text/plain": "<Figure size 900x600 with 1 Axes>",
      "image/png": "[encoded data removed]"
     },
     "metadata": {
      "needs_background": "light"
     },
     "output_type": "display_data"
    },
    {
     "name": "stdout",
     "output_type": "stream",
     "text": [
      "Path found! Length: 31.970562748477146. Nodes created: 187. Number of steps: 101. Correct: True\n",
      "Wall time: 116 ms\n"
     ]
    }
   ],
   "source": [
    "%time simple_test(astar, height, width, map_str, i_start, j_start, i_goal, j_goal, path_len, manhattan_distance)"
   ]
  },
  {
   "cell_type": "code",
   "execution_count": 20,
   "metadata": {
    "tags": []
   },
   "outputs": [
    {
     "data": {
      "text/plain": "<Figure size 900x600 with 1 Axes>",
      "image/png": "[encoded data removed]"
     },
     "metadata": {
      "needs_background": "light"
     },
     "output_type": "display_data"
    },
    {
     "name": "stdout",
     "output_type": "stream",
     "text": [
      "Path found! Length: 31.970562748477146. Nodes created: 177. Number of steps: 98. Correct: True\n",
      "Wall time: 68.5 ms\n"
     ]
    }
   ],
   "source": [
    "%time simple_test(astar, height, width, map_str, i_start, j_start, i_goal, j_goal, path_len, diagonal_distance)"
   ]
  },
  {
   "cell_type": "code",
   "execution_count": 21,
   "metadata": {
    "tags": []
   },
   "outputs": [
    {
     "data": {
      "text/plain": "<Figure size 900x600 with 1 Axes>",
      "image/png": "[encoded data removed]"
     },
     "metadata": {
      "needs_background": "light"
     },
     "output_type": "display_data"
    },
    {
     "name": "stdout",
     "output_type": "stream",
     "text": [
      "Path found! Length: 31.97056274847715. Nodes created: 234. Number of steps: 189. Correct: True\n",
      "Wall time: 50.1 ms\n"
     ]
    }
   ],
   "source": [
    "%time simple_test(astar, height, width, map_str, i_start, j_start, i_goal, j_goal, path_len, chebyshev_distance)"
   ]
  },
  {
   "cell_type": "code",
   "execution_count": 22,
   "metadata": {
    "tags": []
   },
   "outputs": [
    {
     "data": {
      "text/plain": "<Figure size 900x600 with 1 Axes>",
      "image/png": "[encoded data removed]"
     },
     "metadata": {
      "needs_background": "light"
     },
     "output_type": "display_data"
    },
    {
     "name": "stdout",
     "output_type": "stream",
     "text": [
      "Path found! Length: 31.970562748477146. Nodes created: 210. Number of steps: 143. Correct: True\n",
      "Wall time: 63.2 ms\n"
     ]
    }
   ],
   "source": [
    "%time simple_test(astar, height, width, map_str, i_start, j_start, i_goal, j_goal, path_len, euclidean_distance) "
   ]
  },
  {
   "cell_type": "markdown",
   "metadata": {},
   "source": [
    "## Massive test\n",
    "Now you need to run your search algorithm utilizing different heuristic functions on a range of different instances from the [[MovingAI](https://movingai.com/benchmarks/grids.html)] benchmark, validate that you get the correct solution in each case and analyze the results.\n",
    "\n",
    "Minimum number of different maps from the benchmark that should be used for testing is **3**.\n",
    "\n",
    "Minumum number of different instances (start-goal pairs) for each map is **100**."
   ]
  },
  {
   "cell_type": "markdown",
   "metadata": {},
   "source": [
    "![2](./Image/3.png)"
   ]
  },
  {
   "cell_type": "code",
   "execution_count": 23,
   "metadata": {
    "tags": []
   },
   "outputs": [
    {
     "data": {
      "text/plain": "  0%|          | 0/1640 [00:00<?, ?it/s]",
      "application/vnd.jupyter.widget-view+json": {
       "version_major": 2,
       "version_minor": 0,
       "model_id": "c9af832ec12144cba099745e5f2be931"
      }
     },
     "metadata": {},
     "output_type": "display_data"
    },
    {
     "data": {
      "text/plain": "  0%|          | 0/1640 [00:00<?, ?it/s]",
      "application/vnd.jupyter.widget-view+json": {
       "version_major": 2,
       "version_minor": 0,
       "model_id": "9e8880ed10854be492bd9dc00bf8e694"
      }
     },
     "metadata": {},
     "output_type": "display_data"
    },
    {
     "data": {
      "text/plain": "  0%|          | 0/1640 [00:00<?, ?it/s]",
      "application/vnd.jupyter.widget-view+json": {
       "version_major": 2,
       "version_minor": 0,
       "model_id": "611cc796ac8648e2a1a647edd635f7c1"
      }
     },
     "metadata": {},
     "output_type": "display_data"
    },
    {
     "data": {
      "text/plain": "  0%|          | 0/1640 [00:00<?, ?it/s]",
      "application/vnd.jupyter.widget-view+json": {
       "version_major": 2,
       "version_minor": 0,
       "model_id": "21a523f5ccdf47f59019cbc83c950f38"
      }
     },
     "metadata": {},
     "output_type": "display_data"
    }
   ],
   "source": [
    "# TODO Run tests using 4 different heuristics\n",
    "manhStat = massive_test(astar, manhattan_distance)\n",
    "diagStat = massive_test(astar, diagonal_distance)\n",
    "chebStat = massive_test(astar, chebyshev_distance)\n",
    "euclidStat = massive_test(astar, euclidean_distance)"
   ]
  },
  {
   "cell_type": "markdown",
   "metadata": {},
   "source": [
    "## Analyze the results\n",
    "Aggregate the results (think of a plausible way of doing this) and present them as plots. \n",
    "\n",
    "Write a short text report in a separate cell(s), containing a description of the results and the hypotheses that explains them."
   ]
  },
  {
   "cell_type": "code",
   "execution_count": 27,
   "metadata": {},
   "outputs": [
    {
     "name": "stdout",
     "output_type": "stream",
     "text": [
      "manh: {'corr': 0.8530487804878049, 'len': 160.0491246592252, 'nc': 1547.7554878048782, 'st': 1281.1646341463415}\n",
      "diag: {'corr': 1.0, 'len': 159.47630464553953, 'nc': 2889.653048780488, 'st': 2679.996951219512}\n",
      "cheb: {'corr': 1.0, 'len': 159.47630464553953, 'nc': 4002.6554878048782, 'st': 3845.503048780488}\n",
      "euclid: {'corr': 1.0, 'len': 159.47630464553953, 'nc': 3492.816463414634, 'st': 3311.506707317073}\n",
      "manh: {'corr': 0.8384615384615385, 'len': 26.32111275684448, 'nc': 93.03076923076924, 'st': 25.823076923076922}\n",
      "diag: {'corr': 1.0, 'len': 26.086477946714158, 'nc': 123.33846153846154, 'st': 56.184615384615384}\n",
      "cheb: {'corr': 1.0, 'len': 26.086477946714155, 'nc': 323.5076923076923, 'st': 254.36153846153846}\n",
      "euclid: {'corr': 1.0, 'len': 26.086477946714155, 'nc': 202.14615384615385, 'st': 132.6}\n"
     ]
    },
    {
     "data": {
      "text/plain": "<Figure size 1440x504 with 4 Axes>",
      "image/png": "[encoded data removed]"
     },
     "metadata": {
      "needs_background": "light"
     },
     "output_type": "display_data"
    }
   ],
   "source": [
    "def agg(stat):\n",
    "    result = dict()\n",
    "    result['corr'] = np.mean(stat['corr'])\n",
    "    result['len'] = np.mean(stat['len'])\n",
    "    result['nc'] = np.mean(stat['nc'])\n",
    "    result['st'] = np.mean(stat['st'])\n",
    "    return result\n",
    "\n",
    "print('manh:', agg(manhStat))\n",
    "print('diag:', agg(diagStat))\n",
    "print('cheb:', agg(chebStat))\n",
    "print('euclid:', agg(euclidStat))\n",
    "\n",
    "fig, (ax, bx, cx, dx) = plt.subplots(1, 4, figsize=(20,7), sharey=True)\n",
    "ax.scatter(manhStat['len'], manhStat['st'])\n",
    "bx.scatter(diagStat['len'], diagStat['st'])\n",
    "cx.scatter(chebStat['len'], chebStat['st'])\n",
    "dx.scatter(euclidStat['len'], euclidStat['st'])\n",
    "plt.show()\n"
   ]
  },
  {
   "cell_type": "markdown",
   "metadata": {},
   "source": [
    "What is the best heuristics for this domain? Why?\n",
    "\n",
    "Манхеттенское расстояние в качестве эвристики быстро находит решение (раскрывает меньше вершин и делает меньше итерации), но не всегда корректно (85% верных путей), это связанно с тем, что эта эвристика не admissible, но при этом она наибольшая из всех эвристик (как функция), поэтому меньше раскрытых вершин.\n",
    "\n",
    "Остальные эвристики \"правильные\" и показывают 100% корректность, но кол-во раскрытых вершин и итерации наименьшее у диагональной эвристики, т.к. она наибольшая (как функция) из всех правильных."
   ]
  },
  {
   "cell_type": "markdown",
   "metadata": {},
   "source": [
    "## Tie-breakers\n",
    "\n",
    "\n",
    "\n",
    "Now you need to run experiments with the best performing heuristics but different tie-breakers and analyze the results. Choose 1 map and run experiments on it, collect statistics, present it (plots, tables etc.) and elaborate on the obtained results (=write a short text in a separate cell)."
   ]
  },
  {
   "cell_type": "code",
   "execution_count": 28,
   "metadata": {
    "pycharm": {
     "name": "#%%\n"
    }
   },
   "outputs": [
    {
     "data": {
      "text/plain": "  0%|          | 0/130 [00:00<?, ?it/s]",
      "application/vnd.jupyter.widget-view+json": {
       "version_major": 2,
       "version_minor": 0,
       "model_id": "f5025102f9f749eb93af65bfc5ec9f78"
      }
     },
     "metadata": {},
     "output_type": "display_data"
    },
    {
     "data": {
      "text/plain": "  0%|          | 0/130 [00:00<?, ?it/s]",
      "application/vnd.jupyter.widget-view+json": {
       "version_major": 2,
       "version_minor": 0,
       "model_id": "8118b6553618409c9c8b215ea01d19af"
      }
     },
     "metadata": {},
     "output_type": "display_data"
    },
    {
     "data": {
      "text/plain": "  0%|          | 0/130 [00:00<?, ?it/s]",
      "application/vnd.jupyter.widget-view+json": {
       "version_major": 2,
       "version_minor": 0,
       "model_id": "0ee12d4da08c4136918690e470d62882"
      }
     },
     "metadata": {},
     "output_type": "display_data"
    },
    {
     "data": {
      "text/plain": "  0%|          | 0/130 [00:00<?, ?it/s]",
      "application/vnd.jupyter.widget-view+json": {
       "version_major": 2,
       "version_minor": 0,
       "model_id": "46a48443db104ce1921411facc66cc63"
      }
     },
     "metadata": {},
     "output_type": "display_data"
    },
    {
     "name": "stdout",
     "output_type": "stream",
     "text": [
      "manh: {'corr': 0.8461538461538461, 'len': 26.298582509243445, 'nc': 93.53846153846153, 'st': 26.23846153846154}\n",
      "diag: {'corr': 1.0, 'len': 26.086477946714155, 'nc': 167.19230769230768, 'st': 98.86153846153846}\n",
      "cheb: {'corr': 1.0, 'len': 26.086477946714155, 'nc': 330.3076923076923, 'st': 259.7153846153846}\n",
      "euclid: {'corr': 1.0, 'len': 26.086477946714155, 'nc': 207.44615384615383, 'st': 138.08461538461538}\n"
     ]
    },
    {
     "data": {
      "text/plain": "<Figure size 1440x504 with 4 Axes>",
      "image/png": "[encoded data removed]"
     },
     "metadata": {
      "needs_background": "light"
     },
     "output_type": "display_data"
    }
   ],
   "source": [
    "DATA_DIR[0] = 'DataTie'\n",
    "\n",
    "def by_g(self, other):\n",
    "    return (self.F, self.g) < (other.F, other.g)\n",
    "\n",
    "Node.__lt__ = by_g\n",
    "\n",
    "manhStat = massive_test(astar, manhattan_distance)\n",
    "diagStat = massive_test(astar, diagonal_distance)\n",
    "chebStat = massive_test(astar, chebyshev_distance)\n",
    "euclidStat = massive_test(astar, euclidean_distance)\n",
    "\n",
    "print('manh:', agg(manhStat))\n",
    "print('diag:', agg(diagStat))\n",
    "print('cheb:', agg(chebStat))\n",
    "print('euclid:', agg(euclidStat))\n",
    "\n",
    "fig, (ax, bx, cx, dx) = plt.subplots(1, 4, figsize=(20,7), sharey=True)\n",
    "ax.scatter(manhStat['len'], manhStat['st'])\n",
    "bx.scatter(diagStat['len'], diagStat['st'])\n",
    "cx.scatter(chebStat['len'], chebStat['st'])\n",
    "dx.scatter(euclidStat['len'], euclidStat['st'])\n",
    "plt.show()"
   ]
  },
  {
   "cell_type": "code",
   "execution_count": 29,
   "outputs": [
    {
     "data": {
      "text/plain": "  0%|          | 0/130 [00:00<?, ?it/s]",
      "application/vnd.jupyter.widget-view+json": {
       "version_major": 2,
       "version_minor": 0,
       "model_id": "399d97179a614e289e83f6188a58986a"
      }
     },
     "metadata": {},
     "output_type": "display_data"
    },
    {
     "data": {
      "text/plain": "  0%|          | 0/130 [00:00<?, ?it/s]",
      "application/vnd.jupyter.widget-view+json": {
       "version_major": 2,
       "version_minor": 0,
       "model_id": "b998703e4b4d4d2cb4c0b1e59298c2da"
      }
     },
     "metadata": {},
     "output_type": "display_data"
    },
    {
     "data": {
      "text/plain": "  0%|          | 0/130 [00:00<?, ?it/s]",
      "application/vnd.jupyter.widget-view+json": {
       "version_major": 2,
       "version_minor": 0,
       "model_id": "7e46f9a396454f6980c3b384a1c1c5f9"
      }
     },
     "metadata": {},
     "output_type": "display_data"
    },
    {
     "data": {
      "text/plain": "  0%|          | 0/130 [00:00<?, ?it/s]",
      "application/vnd.jupyter.widget-view+json": {
       "version_major": 2,
       "version_minor": 0,
       "model_id": "b14f0de596fc4f6ab1732498c60c2733"
      }
     },
     "metadata": {},
     "output_type": "display_data"
    },
    {
     "name": "stdout",
     "output_type": "stream",
     "text": [
      "manh: {'corr': 0.8384615384615385, 'len': 26.32111275684448, 'nc': 93.03076923076924, 'st': 25.823076923076922}\n",
      "diag: {'corr': 1.0, 'len': 26.086477946714158, 'nc': 123.33846153846154, 'st': 56.184615384615384}\n",
      "cheb: {'corr': 1.0, 'len': 26.086477946714155, 'nc': 323.5076923076923, 'st': 254.36153846153846}\n",
      "euclid: {'corr': 1.0, 'len': 26.086477946714155, 'nc': 202.14615384615385, 'st': 132.6}\n"
     ]
    },
    {
     "data": {
      "text/plain": "<Figure size 1440x504 with 4 Axes>",
      "image/png": "[encoded data removed]"
     },
     "metadata": {
      "needs_background": "light"
     },
     "output_type": "display_data"
    }
   ],
   "source": [
    "\n",
    "def by_h(self, other):\n",
    "    return (self.F, self.h) < (other.F, other.h)\n",
    "\n",
    "Node.__lt__ = by_h\n",
    "\n",
    "manhStat = massive_test(astar, manhattan_distance)\n",
    "diagStat = massive_test(astar, diagonal_distance)\n",
    "chebStat = massive_test(astar, chebyshev_distance)\n",
    "euclidStat = massive_test(astar, euclidean_distance)\n",
    "\n",
    "print('manh:', agg(manhStat))\n",
    "print('diag:', agg(diagStat))\n",
    "print('cheb:', agg(chebStat))\n",
    "print('euclid:', agg(euclidStat))\n",
    "\n",
    "fig, (ax, bx, cx, dx) = plt.subplots(1, 4, figsize=(20,7), sharey=True)\n",
    "ax.scatter(manhStat['len'], manhStat['st'])\n",
    "bx.scatter(diagStat['len'], diagStat['st'])\n",
    "cx.scatter(chebStat['len'], chebStat['st'])\n",
    "dx.scatter(euclidStat['len'], euclidStat['st'])\n",
    "plt.show()"
   ],
   "metadata": {
    "collapsed": false,
    "pycharm": {
     "name": "#%%\n"
    }
   }
  },
  {
   "cell_type": "markdown",
   "source": [
    "##### Вывод:\n",
    "\n",
    "1. Если \"доверять\" эвристике (то есть выбирать по $h$), то кол-во итераций и кол-во раскрытых вершин уменьшается.\n",
    "2. Для манхеттенской эвристики если \"доверять\" эвристике, то корректность уменьшается, видимо потому что эвристика \"плохая\".\n"
   ],
   "metadata": {
    "collapsed": false,
    "pycharm": {
     "name": "#%% md\n"
    }
   }
  }
 ],
 "metadata": {
  "kernelspec": {
   "display_name": "Python 3",
   "language": "python",
   "name": "python3"
  },
  "language_info": {
   "codemirror_mode": {
    "name": "ipython",
    "version": 3
   },
   "file_extension": ".py",
   "mimetype": "text/x-python",
   "name": "python",
   "nbconvert_exporter": "python",
   "pygments_lexer": "ipython3",
   "version": "3.7.3"
  }
 },
 "nbformat": 4,
 "nbformat_minor": 2
}