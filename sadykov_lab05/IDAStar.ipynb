{
 "cells": [
  {
   "cell_type": "markdown",
   "metadata": {},
   "source": [
    "# Iterative Deepening A* (IDA*)\n",
    "\n",
    "\n",
    "The need to store in memory the A* search tree (=CLOSED and OPEN 'lists') may become a bottleneck for some problems. One of such problems is the well-known n-puzzle (gem puzzle) game (especially when n>3). One of the ways to mitigate this problem is to use iterative deepening technique in combination with A\\*. This is known as IDA\\* algorithm (Korf, 1985).\n",
    "\n",
    "In this lab your task is to implement IDA* algorithm for n-puzzle game and compare against A* (with the main indicators being runtime and memory consumption).\n",
    "\n",
    "You will need to generate your own benchmark first. You may use random generation but don't forget to check the solvability of the generated instance (recall that not all n-puzzles are solvable).\n",
    "\n",
    "Good luck!\n",
    "\n",
    "(Korf, 1985) Korf, R.E., 1985. Depth-first iterative-deepening: An optimal admissible tree search. Artificial intelligence, 27(1), pp.97-109. https://academiccommons.columbia.edu/doi/10.7916/D8BK1M9V/download"
   ]
  },
  {
   "cell_type": "code",
   "execution_count": 1,
   "metadata": {},
   "outputs": [],
   "source": [
    "import copy\n",
    "import math\n",
    "import matplotlib.pyplot as plt\n",
    "import math\n",
    "from random import shuffle\n",
    "%matplotlib inline\n",
    "%load_ext memory_profiler"
   ]
  },
  {
   "cell_type": "markdown",
   "metadata": {},
   "source": [
    "## Representing the board state and the search state for the Gem Puzzle\n",
    "- size - width of game field \n",
    "- tileList - tile positions represented as a list of integers. This list is expected to contain values from 1 to *size* * *size*. Each integer value corresponds to a tile and the position in the list (index) corresponds to the position of the tile on the game field. Tile with the value *size* * *size* is assumed to represent blank position.\n",
    "- blankPos - position of empty tile in tileList. Explicitly storing the position of a blank helps to generate successors faster.\n",
    "\n",
    "You may wish to come up with your own board state representation.\n"
   ]
  },
  {
   "cell_type": "code",
   "execution_count": 2,
   "metadata": {},
   "outputs": [],
   "source": [
    "class GemPuzzleState:\n",
    "\n",
    "    # Constructor. Sets tile positions + some basic checks.\n",
    "    def __init__(self, tileList):\n",
    "        self.tileList = tileList\n",
    "        self.size = int(len(tileList) ** 0.5)\n",
    "        blankValue = self.size ** 2\n",
    "        if (blankValue != len(tileList)):\n",
    "            raise Exception(\"The tile list must contain the number of elements which is equal to the square of an integer!\")\n",
    "\n",
    "        # Memorizing the position of a blank tile\n",
    "        # Technically, there is no need to do so, but it makes to get the successors a bit faster\n",
    "        self.blankPos = -1 \n",
    "        for i in enumerate(tileList):\n",
    "            if (i[1] == blankValue):\n",
    "                self.blankPos = i[0]\n",
    "\n",
    "        if (self.blankPos == -1):\n",
    "            raise Exception(\"State should contains max value as position to blank tile\")\n",
    "\n",
    "    def __eq__(self, other):\n",
    "        for a, b in zip(self.tileList, other.tileList):\n",
    "            if a != b:\n",
    "                return False\n",
    "        return True\n",
    "\n",
    "    # Printing the state as tile matrix\n",
    "    def __str__(self):\n",
    "        res = []\n",
    "        charTileList = list(map(str, self.tileList))\n",
    "        charTileList[self.blankPos] = '_'\n",
    "        for rowStart in range(0, len(charTileList), self.size):\n",
    "            res.append(charTileList[rowStart:rowStart+self.size])\n",
    "        return '\\n'.join([''.join(['{:2}'.format(item) for item in row]) for row in res]) + \"\\n\"\n"
   ]
  },
  {
   "cell_type": "markdown",
   "metadata": {},
   "source": [
    "## Search node\n",
    "\n",
    "A wrapper for the GemPuzzleState that incorporates the data needed for the search algorithms (g-value, h-value, etc.)."
   ]
  },
  {
   "cell_type": "code",
   "execution_count": 3,
   "metadata": {},
   "outputs": [],
   "source": [
    "class Node:\n",
    "    def __init__(self, state, g = 0, h = 0, F = None, parent = None, k = 0):\n",
    "        self.state = state\n",
    "        self.state_str = str(state)\n",
    "        self.g = g\n",
    "        self.h = h\n",
    "        self.k = k\n",
    "        if F is None:\n",
    "            self.F = self.g + h\n",
    "        else:\n",
    "            self.F = F\n",
    "        self.parent = parent\n",
    "\n",
    "    def __eq__(self, other):\n",
    "        return self.state == other.state\n",
    "\n",
    "    def __lt__(self, other):\n",
    "        return self.F < other.F or ((self.F == other.F) and (self.h < other.h)) \\\n",
    "               or ((self.F == other.F) and (self.h == other.h) and (self.k > other.k))"
   ]
  },
  {
   "cell_type": "markdown",
   "metadata": {},
   "source": [
    "## Succesors\n",
    "\n",
    "Getting the succesors for the GemPuzzleState/SearchNode (both variants are OK, it's up to you).\n",
    "\n",
    "Below is some basic implementation that you can modify/build upon."
   ]
  },
  {
   "cell_type": "code",
   "execution_count": 4,
   "metadata": {},
   "outputs": [],
   "source": [
    "def GetSuccessors(state):\n",
    "    delta = [[0, 1], [1, 0], [0, -1], [-1, 0]]\n",
    "    successors = []\n",
    "    for d in delta:\n",
    "        row = state.blankPos // state.size #identifying the row in which blank is located\n",
    "        col = state.blankPos % state.size #identifying the column in which blank is located\n",
    "        row += d[0] #computing new row for blank (corresponding to a particular move encoded via 'd')\n",
    "        col += d[1] #computing new column for blank (corresponding to a particular move encoded via 'd')\n",
    "        \n",
    "        #if the new position of a blank is valid (i.e. it is still within the field) then\n",
    "        #a corresponding sucessor should be added to the succesors' list\n",
    "        if (0 <= row < state.size) and (0 <= col < state.size):\n",
    "            newState = copy.deepcopy(state)\n",
    "            newBlankPos = row * state.size + col\n",
    "            newState.tileList[newState.blankPos] = newState.tileList[newBlankPos] #moving tile\n",
    "            newState.tileList[newBlankPos] = newState.size ** 2 #setting blank\n",
    "            newState.blankPos = newBlankPos\n",
    "\n",
    "            successors.append(newState)\n",
    "\n",
    "    return successors"
   ]
  },
  {
   "cell_type": "markdown",
   "metadata": {},
   "source": [
    "## Heuristics Search\n",
    "### OPEN and CLOSED 'lits' implementation"
   ]
  },
  {
   "cell_type": "code",
   "execution_count": 5,
   "metadata": {},
   "outputs": [],
   "source": [
    "import heapq\n",
    "\n",
    "class Open:\n",
    "    def __init__(self):\n",
    "        self.heap = []\n",
    "        self.nodes = {}\n",
    "\n",
    "    def __iter__(self):\n",
    "        return iter(self.nodes.values())\n",
    "\n",
    "    def __len__(self):\n",
    "        return len(self.nodes)\n",
    "\n",
    "    def is_empty(self):\n",
    "        return len(self) == 0\n",
    "\n",
    "    def add_node(self, node: Node, *args):\n",
    "        pos = node.state_str\n",
    "        if pos in self.nodes:\n",
    "            if self.nodes[pos].g <= node.g:\n",
    "                return\n",
    "        self.nodes[pos] = node\n",
    "        heapq.heappush(self.heap, node)\n",
    "\n",
    "    def get_best_node(self, *args):\n",
    "        while True:\n",
    "            best = self.heap[0]\n",
    "            heapq.heappop(self.heap)\n",
    "            pos = best.state_str\n",
    "            if pos in self.nodes:\n",
    "                break\n",
    "        del self.nodes[pos]\n",
    "        return best"
   ]
  },
  {
   "cell_type": "code",
   "execution_count": 6,
   "metadata": {},
   "outputs": [],
   "source": [
    "class Closed:\n",
    "    def __init__(self):\n",
    "        self.nodes = {}\n",
    "\n",
    "    def __iter__(self):\n",
    "        return iter(self.nodes.values())\n",
    "\n",
    "    def __len__(self):\n",
    "        return len(self.nodes)\n",
    "\n",
    "    def add_node(self, item):\n",
    "        self.nodes[item.state_str] = item\n",
    "\n",
    "    def was_expanded(self, item):\n",
    "        return item.state_str in self.nodes\n"
   ]
  },
  {
   "cell_type": "markdown",
   "metadata": {},
   "source": [
    "### Heuristics\n",
    "You need to implement 2 most common *admissible* heuristic functions for the n-puzzle.\n",
    "- Hamming distance (the number of the misplaced tiles on the board).\n",
    "- Manhattan distance (Google it)."
   ]
  },
  {
   "cell_type": "code",
   "execution_count": 7,
   "metadata": {},
   "outputs": [],
   "source": [
    "def HammingDistance(puzzleState1, puzzleState2):\n",
    "    res = 0\n",
    "    for a, b in zip(puzzleState1.tileList, puzzleState2.tileList):\n",
    "        if a != b:\n",
    "            res += 1\n",
    "    return res - 1\n"
   ]
  },
  {
   "cell_type": "code",
   "execution_count": 8,
   "metadata": {},
   "outputs": [],
   "source": [
    "def ManhattanDistance(puzzleState1, puzzleState2):\n",
    "    pos = dict()\n",
    "    for i in range(puzzleState1.size):\n",
    "        for j in range(puzzleState1.size):\n",
    "            cur = puzzleState1.tileList[i * puzzleState1.size + j]\n",
    "            pos[cur] = (i, j)\n",
    "    res = 0\n",
    "    for i in range(puzzleState2.size):\n",
    "        for j in range(puzzleState2.size):\n",
    "            cur = puzzleState2.tileList[i * puzzleState2.size + j]\n",
    "            if cur == puzzleState2.size ** 2:\n",
    "                continue\n",
    "            res += (abs(pos[cur][0] - i) + abs(pos[cur][1] - j))\n",
    "    return res\n"
   ]
  },
  {
   "cell_type": "markdown",
   "metadata": {},
   "source": [
    "### A* algorithm\n",
    "The output of the algorithm should likely be:\n",
    "- path found flag (boolean)\n",
    "- path cost\n",
    "- number of expansions (=steps) an algorithm have made until reaching the solution\n",
    "- number of created (and stored in the memory) nodes (=memory usage)"
   ]
  },
  {
   "cell_type": "code",
   "execution_count": 9,
   "metadata": {},
   "outputs": [],
   "source": [
    "def AStar(startState, goalState, heuristicFunction = ManhattanDistance):\n",
    "    OPEN = Open()\n",
    "    CLOSED = Closed()\n",
    "    h = heuristicFunction(startState, goalState)\n",
    "    start_node = Node(startState, h=h)\n",
    "    OPEN.add_node(start_node)\n",
    "    cnt = 1\n",
    "    steps = 0\n",
    "\n",
    "    while not OPEN.is_empty():\n",
    "        v = OPEN.get_best_node()\n",
    "        CLOSED.add_node(v)\n",
    "        steps += 1\n",
    "        if v.state == goalState:\n",
    "            return True, v.g, steps, cnt\n",
    "        for nxt_state in GetSuccessors(v.state):\n",
    "            h = heuristicFunction(nxt_state, goalState)\n",
    "            nxt_node = Node(nxt_state, v.g + 1, h, parent=v)\n",
    "            if not CLOSED.was_expanded(nxt_node):\n",
    "                OPEN.add_node(nxt_node)\n",
    "                cnt += 1\n",
    "\n",
    "    return False, 0, steps, cnt"
   ]
  },
  {
   "cell_type": "markdown",
   "metadata": {},
   "source": [
    "### IDA* algorithm\n",
    "\n",
    "Implement IDA* algorithm. \n",
    "\n",
    "No other nodes except the ones forming the current path in the search tree have to be memorized.\n",
    "\n",
    "Checking whether the generated successor have already been encountered on a currently explored path is OK.\n",
    "\n",
    "The output of the algorithm should be analogous to A*."
   ]
  },
  {
   "cell_type": "code",
   "execution_count": 10,
   "metadata": {},
   "outputs": [],
   "source": [
    "def IDAStar(startState, goalState, heuristicFunction = ManhattanDistance):\n",
    "    def walk(state, path, g, max_F, steps):\n",
    "        steps += 1\n",
    "        d = 1\n",
    "        h = heuristicFunction(state, goalState)\n",
    "        if g + h > max_F:\n",
    "            return False, g + h, steps, d\n",
    "        if state == goalState:\n",
    "            return True, g, steps, d\n",
    "        new_F = -1\n",
    "        for nxt_state in GetSuccessors(state):\n",
    "            nxt_str = str(nxt_state)\n",
    "            if nxt_str in path:\n",
    "                continue\n",
    "            path.add(nxt_str)\n",
    "            found, _F, steps, _d = walk(nxt_state, path, g + 1, max_F, steps)\n",
    "            d = max(d, _d + 1)\n",
    "            if found:\n",
    "                return True, _F, steps, d\n",
    "            new_F = _F if new_F == -1 else min(new_F, _F)\n",
    "            path.remove(nxt_str)\n",
    "        return False, new_F, steps, d\n",
    "\n",
    "    cur_F = heuristicFunction(startState, goalState)\n",
    "    path = {str(startState)}\n",
    "    steps = 0\n",
    "    d = 1\n",
    "    while True:\n",
    "        found, cur_F, steps, _d = walk(startState, path, 0, cur_F, steps)\n",
    "        d = max(d, _d + 1)\n",
    "        if found:\n",
    "            return True, cur_F, steps, d\n",
    "        if cur_F == -1:\n",
    "            return False, 0, steps, d"
   ]
  },
  {
   "cell_type": "markdown",
   "metadata": {},
   "source": [
    "## Generating Test Instances\n",
    "Sample instances are available in the `Data/taskGem.txt`.\n",
    "\n",
    "You need to create and add to the file (or replace) at least **30** additional instances (8-puzzle) for running experiments. You may use random generation. Depending on how you generate puzzles you may need checking the solvability of each generated instance (recall, that not all n-puzzles are solvable)."
   ]
  },
  {
   "cell_type": "code",
   "execution_count": 11,
   "metadata": {},
   "outputs": [],
   "source": [
    "def IsSolvable(tileList):\n",
    "    inversions = 0\n",
    "    empty_pos = 0\n",
    "    puzzleExeptEmpty = []\n",
    "    for i, v in enumerate(tileList):\n",
    "        if v != len(tileList):\n",
    "            puzzleExeptEmpty.append((i, v))\n",
    "        else:\n",
    "            empty_pos = i\n",
    "\n",
    "    for i, tile in puzzleExeptEmpty:\n",
    "        j = i + 1\n",
    "        while j < len(tileList):\n",
    "            if tileList[j] < tile:\n",
    "                inversions += 1\n",
    "            j += 1\n",
    "    \n",
    "    size = int(math.sqrt(len(tileList)))\n",
    "    \n",
    "    if size % 2 != 0 and inversions % 2 == 0:\n",
    "        return True\n",
    "\n",
    "    if size % 2 == 0:\n",
    "        emptyrow = size - empty_pos // size\n",
    "        return (emptyrow % 2 != 0) == (inversions % 2 == 0)\n",
    "\n",
    "    return False"
   ]
  },
  {
   "cell_type": "code",
   "execution_count": 12,
   "metadata": {},
   "outputs": [],
   "source": [
    "import numpy as np\n",
    "\n",
    "def GenerateTasks(taskFile, number, size, seed=None):\n",
    "    if seed is not None:\n",
    "        np.random.seed(seed)\n",
    "    with open(taskFile, 'w') as f:\n",
    "        for _ in range(number):\n",
    "            while True:\n",
    "                tiles = np.random.permutation(size ** 2) + 1\n",
    "                if IsSolvable(tiles):\n",
    "                    f.write(' '.join(tiles.astype(str)))\n",
    "                    f.write('\\n')\n",
    "                    break"
   ]
  },
  {
   "cell_type": "code",
   "execution_count": 13,
   "metadata": {},
   "outputs": [],
   "source": [
    "# Generating 30 instances for 3x3 puzzle\n",
    "GenerateTasks('Data/tasksGem.txt', 30, 3, seed=42)"
   ]
  },
  {
   "cell_type": "markdown",
   "metadata": {},
   "source": [
    "You will likely to need a procedure that takes a search algorithm and a heuristic function (e.g. IDA* + Manhattan distance) as parameters, runs tests and stores the results for further analysis. So, go ahead and code it.\n"
   ]
  },
  {
   "cell_type": "code",
   "execution_count": 14,
   "metadata": {},
   "outputs": [],
   "source": [
    "from tqdm.notebook import tqdm\n",
    "\n",
    "def MassiveTest(stats, SearchFunction, *args):\n",
    "    stats['found'] = []\n",
    "    stats['cost'] = []\n",
    "    stats['steps'] = []\n",
    "    stats['nodes'] = []\n",
    "    tasks = []\n",
    "    with open('Data/tasksGem.txt') as f:\n",
    "        for line in f:\n",
    "            tiles = list(map(int, line.split()))\n",
    "            startState = GemPuzzleState(tiles)\n",
    "            goalState = GemPuzzleState(range(1, len(tiles) + 1))\n",
    "            tasks.append((startState, goalState))\n",
    "    for startState, goalState in tqdm(tasks):\n",
    "        found, cost, steps, nodes = SearchFunction(startState, goalState, *args)\n",
    "        stats['found'].append(found)\n",
    "        stats['cost'].append(cost)\n",
    "        stats['steps'].append(steps)\n",
    "        stats['nodes'].append(nodes)\n",
    "    stats['found'] = np.array(stats['found'])\n",
    "    stats['cost'] = np.array(stats['cost'])\n",
    "    stats['steps'] = np.array(stats['steps'])\n",
    "    stats['nodes'] = np.array(stats['nodes'])"
   ]
  },
  {
   "cell_type": "markdown",
   "metadata": {},
   "source": [
    "## Experiment\n",
    "Run `A*` and `IDA*` with different heuristics on the generated instances and collect the results for further analysis."
   ]
  },
  {
   "cell_type": "code",
   "execution_count": 15,
   "metadata": {
    "tags": []
   },
   "outputs": [
    {
     "data": {
      "application/vnd.jupyter.widget-view+json": {
       "model_id": "2fab9b0ca8b24fe0a493053411219c61",
       "version_major": 2,
       "version_minor": 0
      },
      "text/plain": [
       "  0%|          | 0/30 [00:00<?, ?it/s]"
      ]
     },
     "metadata": {},
     "output_type": "display_data"
    },
    {
     "name": "stdout",
     "output_type": "stream",
     "text": [
      "peak memory: 129.24 MiB, increment: 51.50 MiB\n",
      "Wall time: 28 s\n"
     ]
    }
   ],
   "source": [
    "#Running A* with Hamming Distance on the generated datase (and collecting the statistics)\n",
    "\n",
    "stats_a_ham = dict()\n",
    "%time %memit MassiveTest(stats_a_ham, AStar, HammingDistance)"
   ]
  },
  {
   "cell_type": "code",
   "execution_count": 16,
   "metadata": {},
   "outputs": [
    {
     "data": {
      "application/vnd.jupyter.widget-view+json": {
       "model_id": "56dd44d91fb74a17949427d538863b08",
       "version_major": 2,
       "version_minor": 0
      },
      "text/plain": [
       "  0%|          | 0/30 [00:00<?, ?it/s]"
      ]
     },
     "metadata": {},
     "output_type": "display_data"
    },
    {
     "name": "stdout",
     "output_type": "stream",
     "text": [
      "peak memory: 85.12 MiB, increment: 0.23 MiB\n",
      "Wall time: 3.16 s\n"
     ]
    }
   ],
   "source": [
    "#Running A* with Manhattan Distance on the generated datase (and collecting the statistics)\n",
    "\n",
    "stats_a_man = dict()\n",
    "%time %memit MassiveTest(stats_a_man, AStar, ManhattanDistance)"
   ]
  },
  {
   "cell_type": "code",
   "execution_count": 17,
   "metadata": {},
   "outputs": [
    {
     "data": {
      "application/vnd.jupyter.widget-view+json": {
       "model_id": "4f1c8e3d14c0481dbb24eebff466e545",
       "version_major": 2,
       "version_minor": 0
      },
      "text/plain": [
       "  0%|          | 0/30 [00:00<?, ?it/s]"
      ]
     },
     "metadata": {},
     "output_type": "display_data"
    },
    {
     "name": "stdout",
     "output_type": "stream",
     "text": [
      "peak memory: 83.36 MiB, increment: 0.02 MiB\n",
      "Wall time: 2min 50s\n"
     ]
    }
   ],
   "source": [
    "#Running IDA* with Hamming Distance on the generated datase (and collecting the statistics)\n",
    "\n",
    "stats_ida_ham = dict()\n",
    "%time %memit MassiveTest(stats_ida_ham, IDAStar, HammingDistance)"
   ]
  },
  {
   "cell_type": "code",
   "execution_count": 18,
   "metadata": {},
   "outputs": [
    {
     "data": {
      "application/vnd.jupyter.widget-view+json": {
       "model_id": "19709955bfbd4cd38a35a70da22c49f6",
       "version_major": 2,
       "version_minor": 0
      },
      "text/plain": [
       "  0%|          | 0/30 [00:00<?, ?it/s]"
      ]
     },
     "metadata": {},
     "output_type": "display_data"
    },
    {
     "name": "stdout",
     "output_type": "stream",
     "text": [
      "peak memory: 83.03 MiB, increment: 0.01 MiB\n",
      "Wall time: 6.06 s\n"
     ]
    }
   ],
   "source": [
    "#Running IDA* with Manhattan Distance on the generated datase (and collecting the statistics)\n",
    "\n",
    "stats_ida_man = dict()\n",
    "%time %memit MassiveTest(stats_ida_man, IDAStar, ManhattanDistance)"
   ]
  },
  {
   "cell_type": "markdown",
   "metadata": {},
   "source": [
    "## Analisys \n",
    "Analyze the obtained results and vizualize them as plots/tables. Write a short report in the separate cell."
   ]
  },
  {
   "cell_type": "code",
   "execution_count": 19,
   "metadata": {},
   "outputs": [
    {
     "name": "stdout",
     "output_type": "stream",
     "text": [
      "A* Hamming found: 1.0\n",
      "A* Manhattan found: 1.0\n",
      "IDA* Hamming found: 1.0\n",
      "IDA* Manhattan found: 1.0\n",
      "Respect solution: True\n",
      "A* Hamming steps: 12748.733333333334\n",
      "A* Manhattan steps: 877.8333333333334\n",
      "IDA* Hamming steps: 170863.6\n",
      "IDA* Manhattan steps: 4087.4666666666667\n",
      "A* Hamming nodes: 20184.833333333332\n",
      "A* Manhattan nodes: 1422.3333333333333\n",
      "IDA* Hamming nodes: 23.966666666666665\n",
      "IDA* Manhattan nodes: 23.966666666666665\n"
     ]
    },
    {
     "data": {
      "image/png": "[encoded data removed]",
      "text/plain": [
       "<Figure size 432x288 with 1 Axes>"
      ]
     },
     "metadata": {
      "needs_background": "light"
     },
     "output_type": "display_data"
    },
    {
     "data": {
      "image/png": "[encoded data removed]",
      "text/plain": [
       "<Figure size 432x288 with 1 Axes>"
      ]
     },
     "metadata": {
      "needs_background": "light"
     },
     "output_type": "display_data"
    }
   ],
   "source": [
    "print('A* Hamming found:', np.mean(stats_a_ham['found']))\n",
    "print('A* Manhattan found:', np.mean(stats_a_man['found']))\n",
    "print('IDA* Hamming found:', np.mean(stats_ida_ham['found']))\n",
    "print('IDA* Manhattan found:', np.mean(stats_ida_man['found']))\n",
    "\n",
    "respect = np.all(stats_a_man['cost'] == stats_a_ham['cost']) and \\\n",
    "          np.all(stats_a_man['cost'] == stats_ida_man['cost']) and \\\n",
    "          np.all(stats_a_man['cost'] == stats_ida_ham['cost'])\n",
    "print('Respect solution:', respect)\n",
    "\n",
    "print('A* Hamming steps:', np.mean(stats_a_ham['steps']))\n",
    "print('A* Manhattan steps:', np.mean(stats_a_man['steps']))\n",
    "print('IDA* Hamming steps:', np.mean(stats_ida_ham['steps']))\n",
    "print('IDA* Manhattan steps:', np.mean(stats_ida_man['steps']))\n",
    "\n",
    "print('A* Hamming nodes:', np.mean(stats_a_ham['nodes']))\n",
    "print('A* Manhattan nodes:', np.mean(stats_a_man['nodes']))\n",
    "print('IDA* Hamming nodes:', np.mean(stats_ida_ham['nodes']))\n",
    "print('IDA* Manhattan nodes:', np.mean(stats_ida_man['nodes']))\n",
    "\n",
    "\n",
    "plt.scatter(stats_a_ham['cost'], stats_a_ham['steps'], alpha=0.5, label='A* Hamming')\n",
    "plt.scatter(stats_a_man['cost'], stats_a_man['steps'], alpha=0.5, label='A* Manhattan')\n",
    "plt.scatter(stats_ida_ham['cost'], stats_ida_ham['steps'], alpha=0.5, label='IDA* Hamming')\n",
    "plt.scatter(stats_ida_man['cost'], stats_ida_man['steps'], alpha=0.5, label='IDA* Manhattan')\n",
    "plt.xlabel('cost')\n",
    "plt.ylabel('steps')\n",
    "plt.legend(loc='upper left')\n",
    "plt.show()\n",
    "\n",
    "plt.scatter(stats_a_ham['cost'], stats_a_ham['nodes'], alpha=0.5, label='A* Hamming')\n",
    "plt.scatter(stats_a_man['cost'], stats_a_man['nodes'], alpha=0.5, label='A* Manhattan')\n",
    "plt.scatter(stats_ida_ham['cost'], stats_ida_ham['nodes'], alpha=0.5, label='IDA* Hamming')\n",
    "plt.scatter(stats_ida_man['cost'], stats_ida_man['nodes'], alpha=0.5, label='IDA* Manhattan')\n",
    "plt.xlabel('cost')\n",
    "plt.ylabel('nodes')\n",
    "plt.legend(loc='upper left')\n",
    "plt.show()"
   ]
  },
  {
   "cell_type": "markdown",
   "metadata": {},
   "source": [
    "Как и ожидалось используемая память в IDA* гораздо меньше, чем в A* , но A* работает быстрее.\n",
    "\n",
    "Если сравнивать эвристики, то видно, что Manhattan сильно лучше Hamming."
   ]
  },
  {
   "cell_type": "markdown",
   "metadata": {},
   "source": [
    "## The last but not the least \n",
    "\n",
    "lets measure the 'real' memory consumption (in Megabytes) of A* vs IDA* on some non-trivial instance."
   ]
  },
  {
   "cell_type": "code",
   "execution_count": 20,
   "metadata": {},
   "outputs": [],
   "source": [
    "#to measure the memory consumtion in absolute values you can use the 'memory_profiler' package (you may need installation)\n",
    "%reload_ext memory_profiler"
   ]
  },
  {
   "cell_type": "code",
   "execution_count": 21,
   "metadata": {},
   "outputs": [],
   "source": [
    "startTileListStr = \"1 2 10 8 12 14 6 4 15 13 5 3 9 7 11 16\"\n",
    "startTileList = list(map(int, startTileListStr.split()))\n",
    "goalTileList = list(range(1, len(startTileList) + 1))\n",
    "startState = GemPuzzleState(startTileList)\n",
    "goalState = GemPuzzleState(goalTileList)"
   ]
  },
  {
   "cell_type": "code",
   "execution_count": 22,
   "metadata": {},
   "outputs": [
    {
     "name": "stdout",
     "output_type": "stream",
     "text": [
      "peak memory: 517.66 MiB, increment: 432.47 MiB\n",
      "Wall time: 48.6 s\n"
     ]
    }
   ],
   "source": [
    "#This should take some time (3-10 minutes depending on your hardware), \n",
    "#and the memory consumption should be around 1400-1500Mb (sic!)\n",
    "%time %memit AStar(startState, goalState, ManhattanDistance)"
   ]
  },
  {
   "cell_type": "code",
   "execution_count": 23,
   "metadata": {},
   "outputs": [
    {
     "name": "stdout",
     "output_type": "stream",
     "text": [
      "peak memory: 92.47 MiB, increment: 0.01 MiB\n",
      "Wall time: 3min 20s\n"
     ]
    }
   ],
   "source": [
    "#This should take a bit longer time, \n",
    "#but the memory consumption should be much (much!) lower.\n",
    "%time %memit IDAStar(startState, goalState, ManhattanDistance)"
   ]
  },
  {
   "cell_type": "code",
   "execution_count": null,
   "metadata": {},
   "outputs": [],
   "source": []
  }
 ],
 "metadata": {
  "kernelspec": {
   "display_name": "Python 3",
   "language": "python",
   "name": "python3"
  },
  "language_info": {
   "codemirror_mode": {
    "name": "ipython",
    "version": 3
   },
   "file_extension": ".py",
   "mimetype": "text/x-python",
   "name": "python",
   "nbconvert_exporter": "python",
   "pygments_lexer": "ipython3",
   "version": "3.9.7"
  }
 },
 "nbformat": 4,
 "nbformat_minor": 2
}
